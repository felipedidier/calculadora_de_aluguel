{
  "cells": [
    {
      "cell_type": "markdown",
      "metadata": {
        "id": "Cc2IDcoB7-sG"
      },
      "source": [
        "# Coletando os dados"
      ]
    },
    {
      "cell_type": "markdown",
      "metadata": {
        "id": "JsuhL7fP8C3v"
      },
      "source": [
        "O programa realizará a coleta de dados a partir de WebScraping com Selenium do site Zapimóveis. Será utilizado o driver do Google Chrome para esse processo.\n",
        "Ao final, será gerado um arquivo .csv que armazenará todos os dados consultados."
      ]
    },
    {
      "cell_type": "markdown",
      "metadata": {
        "id": "DzcB2__pHdFN"
      },
      "source": [
        "## Bibliotecas\n",
        "\n",
        "Algumas bibliotecas são necessárias para a realização do WebScraping..."
      ]
    },
    {
      "cell_type": "code",
      "execution_count": null,
      "metadata": {
        "collapsed": true,
        "id": "UNXwZTO5HdFQ",
        "outputId": "0ead2517-4ffa-42f0-da33-696e4a57d81c"
      },
      "outputs": [
        {
          "name": "stdout",
          "output_type": "stream",
          "text": [
            "Requirement already satisfied: selenium in c:\\programdata\\anaconda3\\lib\\site-packages (4.1.0)\n",
            "Requirement already satisfied: trio-websocket~=0.9 in c:\\programdata\\anaconda3\\lib\\site-packages (from selenium) (0.9.2)\n",
            "Requirement already satisfied: urllib3[secure]~=1.26 in c:\\programdata\\anaconda3\\lib\\site-packages (from selenium) (1.26.7)\n",
            "Requirement already satisfied: trio~=0.17 in c:\\programdata\\anaconda3\\lib\\site-packages (from selenium) (0.19.0)\n",
            "Requirement already satisfied: attrs>=19.2.0 in c:\\programdata\\anaconda3\\lib\\site-packages (from trio~=0.17->selenium) (21.2.0)\n",
            "Requirement already satisfied: sniffio in c:\\programdata\\anaconda3\\lib\\site-packages (from trio~=0.17->selenium) (1.2.0)\n",
            "Requirement already satisfied: async-generator>=1.9 in c:\\programdata\\anaconda3\\lib\\site-packages (from trio~=0.17->selenium) (1.10)\n",
            "Requirement already satisfied: idna in c:\\programdata\\anaconda3\\lib\\site-packages (from trio~=0.17->selenium) (3.2)\n",
            "Requirement already satisfied: cffi>=1.14 in c:\\programdata\\anaconda3\\lib\\site-packages (from trio~=0.17->selenium) (1.14.6)\n",
            "Requirement already satisfied: sortedcontainers in c:\\programdata\\anaconda3\\lib\\site-packages (from trio~=0.17->selenium) (2.4.0)\n",
            "Requirement already satisfied: outcome in c:\\programdata\\anaconda3\\lib\\site-packages (from trio~=0.17->selenium) (1.1.0)\n",
            "Requirement already satisfied: pycparser in c:\\programdata\\anaconda3\\lib\\site-packages (from cffi>=1.14->trio~=0.17->selenium) (2.20)\n",
            "Requirement already satisfied: wsproto>=0.14 in c:\\programdata\\anaconda3\\lib\\site-packages (from trio-websocket~=0.9->selenium) (1.0.0)\n",
            "Requirement already satisfied: pyOpenSSL>=0.14 in c:\\programdata\\anaconda3\\lib\\site-packages (from urllib3[secure]~=1.26->selenium) (21.0.0)\n",
            "Requirement already satisfied: cryptography>=1.3.4 in c:\\programdata\\anaconda3\\lib\\site-packages (from urllib3[secure]~=1.26->selenium) (3.4.8)\n",
            "Requirement already satisfied: certifi in c:\\programdata\\anaconda3\\lib\\site-packages (from urllib3[secure]~=1.26->selenium) (2021.10.8)\n",
            "Requirement already satisfied: six>=1.5.2 in c:\\programdata\\anaconda3\\lib\\site-packages (from pyOpenSSL>=0.14->urllib3[secure]~=1.26->selenium) (1.16.0)\n",
            "Requirement already satisfied: h11<1,>=0.9.0 in c:\\programdata\\anaconda3\\lib\\site-packages (from wsproto>=0.14->trio-websocket~=0.9->selenium) (0.13.0)\n"
          ]
        }
      ],
      "source": [
        "!pip install selenium"
      ]
    },
    {
      "cell_type": "code",
      "execution_count": null,
      "metadata": {
        "id": "XwfpxOa27naK"
      },
      "outputs": [],
      "source": [
        "import time\n",
        "from selenium import webdriver\n",
        "from selenium.webdriver.chrome.options import Options\n",
        "from selenium.webdriver.common.by import By\n",
        "from selenium.webdriver.support.ui import WebDriverWait\n",
        "from selenium.webdriver.support import expected_conditions as EC\n",
        "from selenium.common.exceptions import TimeoutException, WebDriverException\n",
        "\n",
        "import pandas as pd"
      ]
    },
    {
      "cell_type": "markdown",
      "metadata": {
        "id": "Xt9d1Xs-HdFc"
      },
      "source": [
        "## WebScraping"
      ]
    },
    {
      "cell_type": "code",
      "execution_count": null,
      "metadata": {
        "id": "5IfEvmSXHdFe"
      },
      "outputs": [],
      "source": [
        "def webscraping_zapimoveis(num_interation):  \n",
        "    \n",
        "    options = Options()\n",
        "    options.add_argument(\"--incognito\")\n",
        "    options.add_argument(\"start-maximized\")\n",
        "    \n",
        "    driver = webdriver.Chrome(options=options)\n",
        "    url = f'https://www.zapimoveis.com.br/venda/imoveis/ce+fortaleza/?transacao=Venda&tipo=Im%C3%B3vel%20usado&pagina=1&onde=,Cear%C3%A1,Fortaleza,,,,,CITY,BR%3ECeara%3ENULL%3EFortaleza,-3.73272,-38.527013,'\n",
        "    driver.get(url)\n",
        "    time.sleep(3)\n",
        "    \n",
        "    list_property_title = []\n",
        "    list_property_title = []\n",
        "    list_price = []\n",
        "    list_property_area = []\n",
        "    list_property_room = []\n",
        "    list_property_bath = []\n",
        "    list_property_garage = []\n",
        "    list_property_address = []\n",
        "        \n",
        "    for num in range(1, num_interation):\n",
        "        try:\n",
        "            list_pag = driver.find_element(By.XPATH, '//*[@id=\"app\"]/section[1]/div[2]/div[3]/section')\n",
        "\n",
        "            #Título da propriedade\n",
        "            property_title = list_pag.find_elements(By.CSS_SELECTOR ,'.simple-card__text')\n",
        "            list_property_title = list_property_title + [el.text for el in property_title]\n",
        "\n",
        "            #Preço da propriedade\n",
        "            price = list_pag.find_elements_by_css_selector('.simple-card__price')\n",
        "            list_price = list_price + [el.text for el in price]\n",
        "\n",
        "            #Área da propriedade\n",
        "            property_area = list_pag.find_elements_by_css_selector('.js-areas')\n",
        "            list_property_area = list_property_area + [el.text for el in property_area]\n",
        "\n",
        "            #Quarto da propriedade\n",
        "            property_room = list_pag.find_elements_by_css_selector('.js-bedrooms')\n",
        "            list_property_room = list_property_room + [el.text for el in property_room]\n",
        "\n",
        "            #Banheiro da propriedade\n",
        "            property_bath = list_pag.find_elements_by_css_selector('.js-bathrooms')\n",
        "            list_property_bath = list_property_bath + [el.text for el in property_bath]\n",
        "\n",
        "            #Garagem da propriedade\n",
        "            property_garage = list_pag.find_elements_by_css_selector('.js-parking-spaces')\n",
        "            list_property_garage = list_property_garage + [el.text for el in property_garage]\n",
        "\n",
        "            #Endereço da propriedade\n",
        "            property_address = list_pag.find_elements_by_css_selector('.simple-card__address')\n",
        "            list_property_address = list_property_address + [el.text for el in property_address]   \n",
        "\n",
        "            url = f'https://www.zapimoveis.com.br/venda/imoveis/ce+fortaleza/?transacao=Venda&tipo=Im%C3%B3vel%20usado&pagina={num+2}&onde=,Cear%C3%A1,Fortaleza,,,,,CITY,BR%3ECeara%3ENULL%3EFortaleza,-3.73272,-38.527013,'\n",
        "            driver.get(url)\n",
        "            time.sleep(3)\n",
        "            \n",
        "            print(f\"{len(list_property_title)} data colected. Next page...\")\n",
        "        except:\n",
        "            pass\n",
        "        \n",
        "    print(f\"Process finished. {len(list_property_title)} successful colected.\")\n",
        "    \n",
        "    columns_name = ['property_describe', 'price', 'area', 'room', 'bath', 'garage', 'address']\n",
        "    df = pd.DataFrame(zip(list_property_title, list_price, list_property_area, list_property_room, list_property_bath, list_property_garage, list_property_address), columns=columns_name)\n",
        "\n",
        "    return df"
      ]
    },
    {
      "cell_type": "markdown",
      "metadata": {
        "id": "chgDWJyQHdFk"
      },
      "source": [
        "Chamando a função webscraping_zapimoveis() definida acima."
      ]
    },
    {
      "cell_type": "code",
      "execution_count": null,
      "metadata": {
        "scrolled": false,
        "id": "3YIEhinJHdFn",
        "outputId": "f01b27de-3754-4edf-c045-b1c1568ba01d"
      },
      "outputs": [
        {
          "name": "stderr",
          "output_type": "stream",
          "text": [
            "C:\\ProgramData\\Anaconda3\\lib\\site-packages\\selenium\\webdriver\\remote\\webelement.py:502: UserWarning: find_elements_by_* commands are deprecated. Please use find_elements() instead\n",
            "  warnings.warn(\"find_elements_by_* commands are deprecated. Please use find_elements() instead\")\n"
          ]
        },
        {
          "name": "stdout",
          "output_type": "stream",
          "text": [
            "24 data colected. Next page...\n",
            "47 data colected. Next page...\n",
            "71 data colected. Next page...\n",
            "95 data colected. Next page...\n",
            "119 data colected. Next page...\n",
            "143 data colected. Next page...\n",
            "166 data colected. Next page...\n",
            "190 data colected. Next page...\n",
            "214 data colected. Next page...\n",
            "238 data colected. Next page...\n",
            "262 data colected. Next page...\n",
            "286 data colected. Next page...\n",
            "310 data colected. Next page...\n",
            "333 data colected. Next page...\n",
            "357 data colected. Next page...\n",
            "381 data colected. Next page...\n",
            "404 data colected. Next page...\n",
            "428 data colected. Next page...\n",
            "452 data colected. Next page...\n",
            "476 data colected. Next page...\n",
            "500 data colected. Next page...\n",
            "523 data colected. Next page...\n",
            "546 data colected. Next page...\n",
            "570 data colected. Next page...\n",
            "594 data colected. Next page...\n",
            "617 data colected. Next page...\n",
            "641 data colected. Next page...\n",
            "665 data colected. Next page...\n",
            "689 data colected. Next page...\n",
            "713 data colected. Next page...\n",
            "737 data colected. Next page...\n",
            "761 data colected. Next page...\n",
            "785 data colected. Next page...\n",
            "809 data colected. Next page...\n",
            "833 data colected. Next page...\n",
            "857 data colected. Next page...\n",
            "881 data colected. Next page...\n",
            "905 data colected. Next page...\n",
            "953 data colected. Next page...\n",
            "Process finished. 953 successful colected.\n"
          ]
        }
      ],
      "source": [
        "df = webscraping_zapimoveis(100)"
      ]
    },
    {
      "cell_type": "code",
      "execution_count": null,
      "metadata": {
        "id": "zfrBgKllHdFq",
        "outputId": "1e9d9a95-1517-4a77-c36e-a9ce0c0eb290"
      },
      "outputs": [
        {
          "data": {
            "text/html": [
              "<div>\n",
              "<style scoped>\n",
              "    .dataframe tbody tr th:only-of-type {\n",
              "        vertical-align: middle;\n",
              "    }\n",
              "\n",
              "    .dataframe tbody tr th {\n",
              "        vertical-align: top;\n",
              "    }\n",
              "\n",
              "    .dataframe thead th {\n",
              "        text-align: right;\n",
              "    }\n",
              "</style>\n",
              "<table border=\"1\" class=\"dataframe\">\n",
              "  <thead>\n",
              "    <tr style=\"text-align: right;\">\n",
              "      <th></th>\n",
              "      <th>property_describe</th>\n",
              "      <th>price</th>\n",
              "      <th>area</th>\n",
              "      <th>room</th>\n",
              "      <th>bath</th>\n",
              "      <th>garage</th>\n",
              "      <th>address</th>\n",
              "    </tr>\n",
              "  </thead>\n",
              "  <tbody>\n",
              "    <tr>\n",
              "      <th>0</th>\n",
              "      <td>Venha morar onde o melhor da vida acontece! Ru...</td>\n",
              "      <td>R$ 759.000</td>\n",
              "      <td>100 m²</td>\n",
              "      <td>3</td>\n",
              "      <td>4</td>\n",
              "      <td>3</td>\n",
              "      <td>Rua Gonçalves Ledo, Centro</td>\n",
              "    </tr>\n",
              "    <tr>\n",
              "      <th>1</th>\n",
              "      <td>LANÇAMENTO MYRTOS CONDOMINIUM! 3 suítes, sendo...</td>\n",
              "      <td>R$ 672.000</td>\n",
              "      <td>93 m²</td>\n",
              "      <td>3</td>\n",
              "      <td>3</td>\n",
              "      <td>2 - 4</td>\n",
              "      <td>Rua Antônio Augusto, Aldeota</td>\n",
              "    </tr>\n",
              "    <tr>\n",
              "      <th>2</th>\n",
              "      <td>O Tango Plaza de Fátima é resultado de uma arq...</td>\n",
              "      <td>Sob consulta</td>\n",
              "      <td>141 - 166 m²</td>\n",
              "      <td>3 - 4</td>\n",
              "      <td></td>\n",
              "      <td>2 - 3</td>\n",
              "      <td>Rua Doutor José Vítor, Fátima</td>\n",
              "    </tr>\n",
              "    <tr>\n",
              "      <th>3</th>\n",
              "      <td>Park Brasil Residence Nosso empreendimento est...</td>\n",
              "      <td>R$ 429.070</td>\n",
              "      <td>82 m²</td>\n",
              "      <td>3</td>\n",
              "      <td>2</td>\n",
              "      <td>2</td>\n",
              "      <td>Rua Equador, Parangaba</td>\n",
              "    </tr>\n",
              "    <tr>\n",
              "      <th>4</th>\n",
              "      <td>Vendo terreno de 2200 m² no Cambeba próximo ao...</td>\n",
              "      <td>R$ 4.700.000</td>\n",
              "      <td>2200 m²</td>\n",
              "      <td>4</td>\n",
              "      <td>6</td>\n",
              "      <td>4</td>\n",
              "      <td>Cambeba, Fortaleza</td>\n",
              "    </tr>\n",
              "  </tbody>\n",
              "</table>\n",
              "</div>"
            ],
            "text/plain": [
              "                                   property_describe         price  \\\n",
              "0  Venha morar onde o melhor da vida acontece! Ru...    R$ 759.000   \n",
              "1  LANÇAMENTO MYRTOS CONDOMINIUM! 3 suítes, sendo...    R$ 672.000   \n",
              "2  O Tango Plaza de Fátima é resultado de uma arq...  Sob consulta   \n",
              "3  Park Brasil Residence Nosso empreendimento est...    R$ 429.070   \n",
              "4  Vendo terreno de 2200 m² no Cambeba próximo ao...  R$ 4.700.000   \n",
              "\n",
              "           area   room bath garage                        address  \n",
              "0        100 m²      3    4      3     Rua Gonçalves Ledo, Centro  \n",
              "1         93 m²      3    3  2 - 4   Rua Antônio Augusto, Aldeota  \n",
              "2  141 - 166 m²  3 - 4       2 - 3  Rua Doutor José Vítor, Fátima  \n",
              "3         82 m²      3    2      2         Rua Equador, Parangaba  \n",
              "4       2200 m²      4    6      4             Cambeba, Fortaleza  "
            ]
          },
          "execution_count": 5,
          "metadata": {},
          "output_type": "execute_result"
        }
      ],
      "source": [
        "df.head()"
      ]
    },
    {
      "cell_type": "markdown",
      "metadata": {
        "id": "c_TdrUNqHdFs"
      },
      "source": [
        "## Gerando arquivo .CSV"
      ]
    },
    {
      "cell_type": "code",
      "execution_count": null,
      "metadata": {
        "id": "CYdBshzr4EJ6"
      },
      "outputs": [],
      "source": [
        "df.to_csv('C:/Users/rodol/Desktop/Awari/df_zapimoveis.csv', index=False, sep='|', encoding=\"utf-8-sig\")"
      ]
    }
  ],
  "metadata": {
    "colab": {
      "name": "coleta_de_dados_zapimoveis.ipynb",
      "provenance": []
    },
    "kernelspec": {
      "display_name": "Python 3 (ipykernel)",
      "language": "python",
      "name": "python3"
    },
    "language_info": {
      "codemirror_mode": {
        "name": "ipython",
        "version": 3
      },
      "file_extension": ".py",
      "mimetype": "text/x-python",
      "name": "python",
      "nbconvert_exporter": "python",
      "pygments_lexer": "ipython3",
      "version": "3.9.7"
    }
  },
  "nbformat": 4,
  "nbformat_minor": 0
}