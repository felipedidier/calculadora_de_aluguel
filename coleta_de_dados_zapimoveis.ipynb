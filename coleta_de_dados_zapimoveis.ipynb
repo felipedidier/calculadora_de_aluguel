{
 "cells": [
  {
   "cell_type": "markdown",
   "metadata": {
    "id": "Cc2IDcoB7-sG"
   },
   "source": [
    "# Coletando os dados"
   ]
  },
  {
   "cell_type": "markdown",
   "metadata": {
    "id": "JsuhL7fP8C3v"
   },
   "source": [
    "O programa realizará a coleta de dados a partir de WebScraping com Selenium do site Zapimóveis. Será utilizado o driver do Google Chrome para esse processo.\n",
    "Ao final, será gerado um arquivo .csv que armazenará todos os dados consultados."
   ]
  },
  {
   "cell_type": "markdown",
   "metadata": {},
   "source": [
    "## Bibliotecas\n",
    "\n",
    "Algumas bibliotecas são necessárias para a realização do WebScraping..."
   ]
  },
  {
   "cell_type": "code",
   "execution_count": 1,
   "metadata": {
    "scrolled": true
   },
   "outputs": [
    {
     "name": "stdout",
     "output_type": "stream",
     "text": [
      "Requirement already satisfied: selenium in c:\\programdata\\anaconda3\\lib\\site-packages (4.1.0)\n",
      "Requirement already satisfied: trio~=0.17 in c:\\programdata\\anaconda3\\lib\\site-packages (from selenium) (0.19.0)\n",
      "Requirement already satisfied: urllib3[secure]~=1.26 in c:\\programdata\\anaconda3\\lib\\site-packages (from selenium) (1.26.7)\n",
      "Requirement already satisfied: trio-websocket~=0.9 in c:\\programdata\\anaconda3\\lib\\site-packages (from selenium) (0.9.2)\n",
      "Requirement already satisfied: sniffio in c:\\programdata\\anaconda3\\lib\\site-packages (from trio~=0.17->selenium) (1.2.0)\n",
      "Requirement already satisfied: async-generator>=1.9 in c:\\programdata\\anaconda3\\lib\\site-packages (from trio~=0.17->selenium) (1.10)\n",
      "Requirement already satisfied: attrs>=19.2.0 in c:\\programdata\\anaconda3\\lib\\site-packages (from trio~=0.17->selenium) (21.2.0)\n",
      "Requirement already satisfied: cffi>=1.14 in c:\\programdata\\anaconda3\\lib\\site-packages (from trio~=0.17->selenium) (1.14.6)\n",
      "Requirement already satisfied: outcome in c:\\programdata\\anaconda3\\lib\\site-packages (from trio~=0.17->selenium) (1.1.0)\n",
      "Requirement already satisfied: sortedcontainers in c:\\programdata\\anaconda3\\lib\\site-packages (from trio~=0.17->selenium) (2.4.0)\n",
      "Requirement already satisfied: idna in c:\\programdata\\anaconda3\\lib\\site-packages (from trio~=0.17->selenium) (3.2)\n",
      "Requirement already satisfied: pycparser in c:\\programdata\\anaconda3\\lib\\site-packages (from cffi>=1.14->trio~=0.17->selenium) (2.20)\n",
      "Requirement already satisfied: wsproto>=0.14 in c:\\programdata\\anaconda3\\lib\\site-packages (from trio-websocket~=0.9->selenium) (1.0.0)\n",
      "Requirement already satisfied: pyOpenSSL>=0.14 in c:\\programdata\\anaconda3\\lib\\site-packages (from urllib3[secure]~=1.26->selenium) (21.0.0)\n",
      "Requirement already satisfied: cryptography>=1.3.4 in c:\\programdata\\anaconda3\\lib\\site-packages (from urllib3[secure]~=1.26->selenium) (3.4.8)\n",
      "Requirement already satisfied: certifi in c:\\programdata\\anaconda3\\lib\\site-packages (from urllib3[secure]~=1.26->selenium) (2021.10.8)\n",
      "Requirement already satisfied: six>=1.5.2 in c:\\programdata\\anaconda3\\lib\\site-packages (from pyOpenSSL>=0.14->urllib3[secure]~=1.26->selenium) (1.16.0)\n",
      "Requirement already satisfied: h11<1,>=0.9.0 in c:\\programdata\\anaconda3\\lib\\site-packages (from wsproto>=0.14->trio-websocket~=0.9->selenium) (0.13.0)\n"
     ]
    }
   ],
   "source": [
    "!pip install selenium"
   ]
  },
  {
   "cell_type": "code",
   "execution_count": 9,
   "metadata": {
    "id": "XwfpxOa27naK"
   },
   "outputs": [],
   "source": [
    "import time\n",
    "from selenium import webdriver\n",
    "from selenium.webdriver.chrome.options import Options\n",
    "from selenium.webdriver.common.by import By\n",
    "from selenium.webdriver.support.ui import WebDriverWait\n",
    "from selenium.webdriver.support import expected_conditions as EC\n",
    "from selenium.common.exceptions import TimeoutException, WebDriverException\n",
    "\n",
    "import pandas as pd"
   ]
  },
  {
   "cell_type": "markdown",
   "metadata": {},
   "source": [
    "## WebScraping"
   ]
  },
  {
   "cell_type": "markdown",
   "metadata": {
    "id": "OQ9uKg188YeG"
   },
   "source": [
    "Definindo as caracteristicas da janela Desktop."
   ]
  },
  {
   "cell_type": "code",
   "execution_count": 86,
   "metadata": {
    "id": "2TWr0DUG8Vo3"
   },
   "outputs": [],
   "source": [
    "## Definição de Janela Desktop\n",
    "options = Options()\n",
    "options.add_argument(\"--incognito\")\n",
    "options.add_argument(\"start-maximized\")"
   ]
  },
  {
   "cell_type": "markdown",
   "metadata": {},
   "source": [
    "Abrindo o browser e acessando a url definida."
   ]
  },
  {
   "cell_type": "code",
   "execution_count": 87,
   "metadata": {},
   "outputs": [],
   "source": [
    "driver = webdriver.Chrome(options=options)\n",
    "url = f'https://www.zapimoveis.com.br/venda/apartamentos/sp+sao-paulo/?transacao=Venda&tipoUnidade=Residencial,Apartamento&tipo=Im%C3%B3vel%20usado&onde=,S%C3%A3o%20Paulo,S%C3%A3o%20Paulo,,,,,city,BR%3ESao%20Paulo%3ENULL%3ESao%20Paulo,-23.024996,-45.563879,%2Fvenda%2Fapartamentos%2Fsp%2Bsao-paulo%2F'\n",
    "driver.get(url)\n",
    "time.sleep(2)"
   ]
  },
  {
   "cell_type": "markdown",
   "metadata": {},
   "source": [
    "Função criada para iterar via webscraping pelas páginas do site Zapimóveis."
   ]
  },
  {
   "cell_type": "code",
   "execution_count": 88,
   "metadata": {},
   "outputs": [],
   "source": [
    "def webscraping_zapimoveis(num_interation = 10):  \n",
    "    \n",
    "    list_property_title = []\n",
    "    list_property_title = []\n",
    "    list_price = []\n",
    "    list_property_area = []\n",
    "    list_property_room = []\n",
    "    list_property_bath = []\n",
    "    list_property_garage = []\n",
    "    list_property_address = []\n",
    "    \n",
    "    success = 0\n",
    "    \n",
    "    for num in range(1, num_interation+1):\n",
    "        try:\n",
    "            list_pag = driver.find_element(By.XPATH, '//*[@id=\"app\"]/section[1]/div[2]/div[3]/section')\n",
    "\n",
    "            #Título da propriedade\n",
    "            property_title = list_pag.find_elements(By.CSS_SELECTOR ,'.simple-card__text')\n",
    "            list_property_title = list_property_title + [el.text for el in property_title]\n",
    "\n",
    "            #Preço da propriedade\n",
    "            price = list_pag.find_elements_by_css_selector('.simple-card__price')\n",
    "            list_price = list_price + [el.text for el in price]\n",
    "\n",
    "            #Área da propriedade\n",
    "            property_area = list_pag.find_elements_by_css_selector('.js-areas')\n",
    "            list_property_area = list_property_area + [el.text for el in property_area]\n",
    "\n",
    "            #Quarto da propriedade\n",
    "            property_room = list_pag.find_elements_by_css_selector('.js-bedrooms')\n",
    "            list_property_room = list_property_room + [el.text for el in property_room]\n",
    "\n",
    "            #Banheiro da propriedade\n",
    "            property_bath = list_pag.find_elements_by_css_selector('.js-bathrooms')\n",
    "            list_property_bath = list_property_bath + [el.text for el in property_bath]\n",
    "\n",
    "            #Garagem da propriedade\n",
    "            property_garage = list_pag.find_elements_by_css_selector('.js-parking-spaces')\n",
    "            list_property_garage = list_property_garage + [el.text for el in property_garage]\n",
    "\n",
    "            #Endereço da propriedade\n",
    "            property_address = list_pag.find_elements_by_css_selector('.simple-card__address')\n",
    "            list_property_address = list_property_address + [el.text for el in property_address]   \n",
    "\n",
    "            #Click_buttom\n",
    "            if num == 1:\n",
    "                n = 6\n",
    "            else:\n",
    "                n = 7\n",
    "            buttom_var = f'#app > section.results__container > div.results__wrapper > div.results__list.js-results > section > ul > li:nth-child({n}) > button'\n",
    "\n",
    "            driver.execute_script(\"return arguments[0].scrollIntoView(true);\", WebDriverWait(driver, 20).until(EC.element_to_be_clickable((By.CSS_SELECTOR, buttom_var))))\n",
    "            time.sleep(2)\n",
    "            botao_proximo = list_pag.find_element(By.CSS_SELECTOR, buttom_var)\n",
    "            botao_proximo.click()\n",
    "            time.sleep(2)\n",
    "\n",
    "            print(f\"Page {num} done. Next page...\")\n",
    "            success += 1\n",
    "        except:\n",
    "            pass\n",
    "        \n",
    "    print(f\"Process finished. {num_interation} successful iterations.\")\n",
    "    \n",
    "    columns_name = ['property_describe', 'price', 'area', 'room', 'bath', 'garage', 'address']\n",
    "    df = pd.DataFrame(zip(list_property_title, list_price, list_property_area, list_property_room, list_property_bath, list_property_garage, list_property_address), columns=columns_name)\n",
    "\n",
    "    return df"
   ]
  },
  {
   "cell_type": "markdown",
   "metadata": {},
   "source": [
    "Chamando a função webscraping_zapimoveis() definida acima."
   ]
  },
  {
   "cell_type": "code",
   "execution_count": 89,
   "metadata": {
    "scrolled": false
   },
   "outputs": [
    {
     "name": "stdout",
     "output_type": "stream",
     "text": [
      "Page 1 done. Next page...\n",
      "Page 2 done. Next page...\n",
      "Page 3 done. Next page...\n",
      "Page 4 done. Next page...\n",
      "Page 5 done. Next page...\n",
      "Page 6 done. Next page...\n",
      "Page 7 done. Next page...\n",
      "Page 8 done. Next page...\n",
      "Page 9 done. Next page...\n",
      "Process finished. 10 successful iterations.\n"
     ]
    },
    {
     "data": {
      "text/html": [
       "<div>\n",
       "<style scoped>\n",
       "    .dataframe tbody tr th:only-of-type {\n",
       "        vertical-align: middle;\n",
       "    }\n",
       "\n",
       "    .dataframe tbody tr th {\n",
       "        vertical-align: top;\n",
       "    }\n",
       "\n",
       "    .dataframe thead th {\n",
       "        text-align: right;\n",
       "    }\n",
       "</style>\n",
       "<table border=\"1\" class=\"dataframe\">\n",
       "  <thead>\n",
       "    <tr style=\"text-align: right;\">\n",
       "      <th></th>\n",
       "      <th>property_describe</th>\n",
       "      <th>price</th>\n",
       "      <th>area</th>\n",
       "      <th>room</th>\n",
       "      <th>bath</th>\n",
       "      <th>garage</th>\n",
       "      <th>address</th>\n",
       "    </tr>\n",
       "  </thead>\n",
       "  <tbody>\n",
       "    <tr>\n",
       "      <th>0</th>\n",
       "      <td>Condomínio fechado com apartamentos de 2 dormi...</td>\n",
       "      <td>R$ 162.990</td>\n",
       "      <td>40 m²</td>\n",
       "      <td>2</td>\n",
       "      <td>1</td>\n",
       "      <td>1</td>\n",
       "      <td>Rua Gaspar Vaz da Cunha, Caixa D Agua</td>\n",
       "    </tr>\n",
       "    <tr>\n",
       "      <th>1</th>\n",
       "      <td>Lindos apartamentos na planta de 2 e 3 dormitó...</td>\n",
       "      <td>R$ 229.000</td>\n",
       "      <td>68 - 82 m²</td>\n",
       "      <td>2 - 3</td>\n",
       "      <td></td>\n",
       "      <td>1 - 2</td>\n",
       "      <td>Rua Padre Fischer, Parque São Luís</td>\n",
       "    </tr>\n",
       "    <tr>\n",
       "      <th>2</th>\n",
       "      <td>Condomínio fechado com apartamentos de 2 dormi...</td>\n",
       "      <td>R$ 163.990</td>\n",
       "      <td>40 m²</td>\n",
       "      <td>2</td>\n",
       "      <td>1</td>\n",
       "      <td>1</td>\n",
       "      <td>Avenida Arnaldo Felipe Sbruzzi, Piracangagua</td>\n",
       "    </tr>\n",
       "    <tr>\n",
       "      <th>3</th>\n",
       "      <td>Maiores detalhes em contato pelo whatssapp</td>\n",
       "      <td>R$ 650.000</td>\n",
       "      <td>84 m²</td>\n",
       "      <td>3</td>\n",
       "      <td>2</td>\n",
       "      <td>1</td>\n",
       "      <td>Rua Abagiba, Saúde</td>\n",
       "    </tr>\n",
       "    <tr>\n",
       "      <th>4</th>\n",
       "      <td>Condomínio altíssimo padrão próximo ao shoppin...</td>\n",
       "      <td>R$ 3.000.000</td>\n",
       "      <td>240 m²</td>\n",
       "      <td>3</td>\n",
       "      <td>5</td>\n",
       "      <td>4</td>\n",
       "      <td>Rua Tupi, Santa Cecília</td>\n",
       "    </tr>\n",
       "    <tr>\n",
       "      <th>...</th>\n",
       "      <td>...</td>\n",
       "      <td>...</td>\n",
       "      <td>...</td>\n",
       "      <td>...</td>\n",
       "      <td>...</td>\n",
       "      <td>...</td>\n",
       "      <td>...</td>\n",
       "    </tr>\n",
       "    <tr>\n",
       "      <th>215</th>\n",
       "      <td>Apartamento de 2 qtos premium, lazer completo ...</td>\n",
       "      <td>R$ 430.000</td>\n",
       "      <td>64 m²</td>\n",
       "      <td>3</td>\n",
       "      <td>1</td>\n",
       "      <td>1</td>\n",
       "      <td>Avenida Celso Garcia, Tatuapé</td>\n",
       "    </tr>\n",
       "    <tr>\n",
       "      <th>216</th>\n",
       "      <td>Lindo apartamento com 425 m², bem conservado, ...</td>\n",
       "      <td>Sob consulta</td>\n",
       "      <td>42 - 83 m²</td>\n",
       "      <td>2</td>\n",
       "      <td>2</td>\n",
       "      <td>1</td>\n",
       "      <td>Avenida Chiyo Yamamoto, Vila Nova Bonsucesso</td>\n",
       "    </tr>\n",
       "    <tr>\n",
       "      <th>217</th>\n",
       "      <td>Em Construção- Entrega em Fevereiro de 2023. O...</td>\n",
       "      <td>R$ 255.000</td>\n",
       "      <td>44 - 46 m²</td>\n",
       "      <td>2</td>\n",
       "      <td>1</td>\n",
       "      <td>1</td>\n",
       "      <td>Rua Barão de Jaceguai, Centro</td>\n",
       "    </tr>\n",
       "    <tr>\n",
       "      <th>218</th>\n",
       "      <td>Lindo apartamento 3 dormitórios , repleto de a...</td>\n",
       "      <td>Sob consulta</td>\n",
       "      <td>51 m²</td>\n",
       "      <td>2</td>\n",
       "      <td>6</td>\n",
       "      <td>1</td>\n",
       "      <td>Avenida Sebastião de Paula, São João</td>\n",
       "    </tr>\n",
       "    <tr>\n",
       "      <th>219</th>\n",
       "      <td>Condomínio com área de lazer completo (playgro...</td>\n",
       "      <td>R$ 3.950.000</td>\n",
       "      <td>425 m²</td>\n",
       "      <td>4</td>\n",
       "      <td>4</td>\n",
       "      <td>2</td>\n",
       "      <td>Rua Forte William, Panamby</td>\n",
       "    </tr>\n",
       "  </tbody>\n",
       "</table>\n",
       "<p>220 rows × 7 columns</p>\n",
       "</div>"
      ],
      "text/plain": [
       "                                     property_describe         price  \\\n",
       "0    Condomínio fechado com apartamentos de 2 dormi...    R$ 162.990   \n",
       "1    Lindos apartamentos na planta de 2 e 3 dormitó...    R$ 229.000   \n",
       "2    Condomínio fechado com apartamentos de 2 dormi...    R$ 163.990   \n",
       "3           Maiores detalhes em contato pelo whatssapp    R$ 650.000   \n",
       "4    Condomínio altíssimo padrão próximo ao shoppin...  R$ 3.000.000   \n",
       "..                                                 ...           ...   \n",
       "215  Apartamento de 2 qtos premium, lazer completo ...    R$ 430.000   \n",
       "216  Lindo apartamento com 425 m², bem conservado, ...  Sob consulta   \n",
       "217  Em Construção- Entrega em Fevereiro de 2023. O...    R$ 255.000   \n",
       "218  Lindo apartamento 3 dormitórios , repleto de a...  Sob consulta   \n",
       "219  Condomínio com área de lazer completo (playgro...  R$ 3.950.000   \n",
       "\n",
       "           area   room bath garage  \\\n",
       "0         40 m²      2    1      1   \n",
       "1    68 - 82 m²  2 - 3       1 - 2   \n",
       "2         40 m²      2    1      1   \n",
       "3         84 m²      3    2      1   \n",
       "4        240 m²      3    5      4   \n",
       "..          ...    ...  ...    ...   \n",
       "215       64 m²      3    1      1   \n",
       "216  42 - 83 m²      2    2      1   \n",
       "217  44 - 46 m²      2    1      1   \n",
       "218       51 m²      2    6      1   \n",
       "219      425 m²      4    4      2   \n",
       "\n",
       "                                          address  \n",
       "0           Rua Gaspar Vaz da Cunha, Caixa D Agua  \n",
       "1              Rua Padre Fischer, Parque São Luís  \n",
       "2    Avenida Arnaldo Felipe Sbruzzi, Piracangagua  \n",
       "3                              Rua Abagiba, Saúde  \n",
       "4                         Rua Tupi, Santa Cecília  \n",
       "..                                            ...  \n",
       "215                 Avenida Celso Garcia, Tatuapé  \n",
       "216  Avenida Chiyo Yamamoto, Vila Nova Bonsucesso  \n",
       "217                 Rua Barão de Jaceguai, Centro  \n",
       "218          Avenida Sebastião de Paula, São João  \n",
       "219                    Rua Forte William, Panamby  \n",
       "\n",
       "[220 rows x 7 columns]"
      ]
     },
     "execution_count": 89,
     "metadata": {},
     "output_type": "execute_result"
    }
   ],
   "source": [
    "webscraping_zapimoveis()"
   ]
  },
  {
   "cell_type": "markdown",
   "metadata": {},
   "source": [
    "## Gerando arquivo .CSV"
   ]
  },
  {
   "cell_type": "code",
   "execution_count": 90,
   "metadata": {
    "colab": {
     "base_uri": "https://localhost:8080/",
     "height": 337
    },
    "id": "CYdBshzr4EJ6",
    "outputId": "7ef79c6b-7509-49c4-dd6b-566af200a597"
   },
   "outputs": [],
   "source": [
    "df.to_csv('C:/Users/rodol/Desktop/Awari/df_zapimoveis.csv', index=False, sep='|', encoding=\"utf-8-sig\")"
   ]
  }
 ],
 "metadata": {
  "colab": {
   "name": "VivaReal_Coleta_de_dados.ipynb",
   "provenance": []
  },
  "kernelspec": {
   "display_name": "Python 3 (ipykernel)",
   "language": "python",
   "name": "python3"
  },
  "language_info": {
   "codemirror_mode": {
    "name": "ipython",
    "version": 3
   },
   "file_extension": ".py",
   "mimetype": "text/x-python",
   "name": "python",
   "nbconvert_exporter": "python",
   "pygments_lexer": "ipython3",
   "version": "3.9.7"
  }
 },
 "nbformat": 4,
 "nbformat_minor": 1
}
