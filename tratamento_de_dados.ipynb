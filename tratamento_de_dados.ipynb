{
  "nbformat": 4,
  "nbformat_minor": 0,
  "metadata": {
    "colab": {
      "name": "tratamento_de_dados.ipynb",
      "provenance": [],
      "authorship_tag": "ABX9TyMgcfH8LdIVYSDXqJfqyemU"
    },
    "kernelspec": {
      "name": "python3",
      "display_name": "Python 3"
    },
    "language_info": {
      "name": "python"
    }
  },
  "cells": [
    {
      "cell_type": "markdown",
      "source": [
        "# Tratamento de Dados"
      ],
      "metadata": {
        "id": "224U8dlhxDNw"
      }
    },
    {
      "cell_type": "markdown",
      "source": [
        "## Bibliotecas"
      ],
      "metadata": {
        "id": "JI_IstEvxHRB"
      }
    },
    {
      "cell_type": "code",
      "source": [
        "# https://www.zapimoveis.com.br/venda/apartamentos/sp/?transacao=Venda&tipoUnidade=Residencial,Apartamento&tipo=Im%C3%B3vel%20usado&pagina=1&ordem=Data%20Atualiza%C3%A7%C3%A3o&onde=,S%C3%A3o%20Paulo,,,,,,STATE,BR%3ESao%20Paulo,,,"
      ],
      "metadata": {
        "id": "vhfNbfifz9zH"
      },
      "execution_count": 235,
      "outputs": []
    },
    {
      "cell_type": "code",
      "execution_count": 236,
      "metadata": {
        "id": "Pq1cVTGOwuhJ"
      },
      "outputs": [],
      "source": [
        "import pandas as pd\n",
        "import numpy as np\n",
        "import matplotlib.pyplot as plt\n",
        "import seaborn as sns\n",
        "\n",
        "from scipy import stats\n",
        "from sklearn.preprocessing import StandardScaler\n",
        "from sklearn.preprocessing import OneHotEncoder"
      ]
    },
    {
      "cell_type": "code",
      "source": [
        "df = pd.read_csv('https://raw.githubusercontent.com/felipedidier/webscraping_calculadora_de_aluguel/main/df_zapimoveis.csv', delimiter ='|', encoding='utf-8-sig')"
      ],
      "metadata": {
        "id": "cxYCnnAgxUxA"
      },
      "execution_count": 237,
      "outputs": []
    },
    {
      "cell_type": "code",
      "source": [
        "df.head()"
      ],
      "metadata": {
        "colab": {
          "base_uri": "https://localhost:8080/",
          "height": 337
        },
        "id": "oYm63VzIxsLG",
        "outputId": "f6733303-b60d-4fc0-b271-c4d43baae08f"
      },
      "execution_count": 238,
      "outputs": [
        {
          "output_type": "execute_result",
          "data": {
            "text/html": [
              "\n",
              "  <div id=\"df-26d59d41-ff84-4493-be59-58d267abc201\">\n",
              "    <div class=\"colab-df-container\">\n",
              "      <div>\n",
              "<style scoped>\n",
              "    .dataframe tbody tr th:only-of-type {\n",
              "        vertical-align: middle;\n",
              "    }\n",
              "\n",
              "    .dataframe tbody tr th {\n",
              "        vertical-align: top;\n",
              "    }\n",
              "\n",
              "    .dataframe thead th {\n",
              "        text-align: right;\n",
              "    }\n",
              "</style>\n",
              "<table border=\"1\" class=\"dataframe\">\n",
              "  <thead>\n",
              "    <tr style=\"text-align: right;\">\n",
              "      <th></th>\n",
              "      <th>property_describe</th>\n",
              "      <th>price</th>\n",
              "      <th>area</th>\n",
              "      <th>room</th>\n",
              "      <th>bath</th>\n",
              "      <th>garage</th>\n",
              "      <th>address</th>\n",
              "    </tr>\n",
              "  </thead>\n",
              "  <tbody>\n",
              "    <tr>\n",
              "      <th>0</th>\n",
              "      <td>Condomínio fechado com apartamentos de 2 dormi...</td>\n",
              "      <td>R$ 162.990</td>\n",
              "      <td>40 m²</td>\n",
              "      <td>2</td>\n",
              "      <td>1.0</td>\n",
              "      <td>1</td>\n",
              "      <td>Rua Gaspar Vaz da Cunha, Caixa D Agua</td>\n",
              "    </tr>\n",
              "    <tr>\n",
              "      <th>1</th>\n",
              "      <td>Lindos apartamentos na planta de 2 e 3 dormitó...</td>\n",
              "      <td>R$ 229.000</td>\n",
              "      <td>68 - 82 m²</td>\n",
              "      <td>2 - 3</td>\n",
              "      <td>NaN</td>\n",
              "      <td>1 - 2</td>\n",
              "      <td>Rua Padre Fischer, Parque São Luís</td>\n",
              "    </tr>\n",
              "    <tr>\n",
              "      <th>2</th>\n",
              "      <td>Condomínio fechado com apartamentos de 2 dormi...</td>\n",
              "      <td>R$ 163.990</td>\n",
              "      <td>40 m²</td>\n",
              "      <td>2</td>\n",
              "      <td>1.0</td>\n",
              "      <td>1</td>\n",
              "      <td>Avenida Arnaldo Felipe Sbruzzi, Piracangagua</td>\n",
              "    </tr>\n",
              "    <tr>\n",
              "      <th>3</th>\n",
              "      <td>Maravilhoso apartamento com varanda Gourmet sa...</td>\n",
              "      <td>R$ 949.000</td>\n",
              "      <td>89 m²</td>\n",
              "      <td>3</td>\n",
              "      <td>3.0</td>\n",
              "      <td>2</td>\n",
              "      <td>Rua Tebas, Vila Mascote</td>\n",
              "    </tr>\n",
              "    <tr>\n",
              "      <th>4</th>\n",
              "      <td>O apartamento está localizado no bairro Sacomã...</td>\n",
              "      <td>R$ 163.000</td>\n",
              "      <td>35 m²</td>\n",
              "      <td>2</td>\n",
              "      <td>1.0</td>\n",
              "      <td>1</td>\n",
              "      <td>Rua Antônio Gomes Ferreira, Sacomã</td>\n",
              "    </tr>\n",
              "  </tbody>\n",
              "</table>\n",
              "</div>\n",
              "      <button class=\"colab-df-convert\" onclick=\"convertToInteractive('df-26d59d41-ff84-4493-be59-58d267abc201')\"\n",
              "              title=\"Convert this dataframe to an interactive table.\"\n",
              "              style=\"display:none;\">\n",
              "        \n",
              "  <svg xmlns=\"http://www.w3.org/2000/svg\" height=\"24px\"viewBox=\"0 0 24 24\"\n",
              "       width=\"24px\">\n",
              "    <path d=\"M0 0h24v24H0V0z\" fill=\"none\"/>\n",
              "    <path d=\"M18.56 5.44l.94 2.06.94-2.06 2.06-.94-2.06-.94-.94-2.06-.94 2.06-2.06.94zm-11 1L8.5 8.5l.94-2.06 2.06-.94-2.06-.94L8.5 2.5l-.94 2.06-2.06.94zm10 10l.94 2.06.94-2.06 2.06-.94-2.06-.94-.94-2.06-.94 2.06-2.06.94z\"/><path d=\"M17.41 7.96l-1.37-1.37c-.4-.4-.92-.59-1.43-.59-.52 0-1.04.2-1.43.59L10.3 9.45l-7.72 7.72c-.78.78-.78 2.05 0 2.83L4 21.41c.39.39.9.59 1.41.59.51 0 1.02-.2 1.41-.59l7.78-7.78 2.81-2.81c.8-.78.8-2.07 0-2.86zM5.41 20L4 18.59l7.72-7.72 1.47 1.35L5.41 20z\"/>\n",
              "  </svg>\n",
              "      </button>\n",
              "      \n",
              "  <style>\n",
              "    .colab-df-container {\n",
              "      display:flex;\n",
              "      flex-wrap:wrap;\n",
              "      gap: 12px;\n",
              "    }\n",
              "\n",
              "    .colab-df-convert {\n",
              "      background-color: #E8F0FE;\n",
              "      border: none;\n",
              "      border-radius: 50%;\n",
              "      cursor: pointer;\n",
              "      display: none;\n",
              "      fill: #1967D2;\n",
              "      height: 32px;\n",
              "      padding: 0 0 0 0;\n",
              "      width: 32px;\n",
              "    }\n",
              "\n",
              "    .colab-df-convert:hover {\n",
              "      background-color: #E2EBFA;\n",
              "      box-shadow: 0px 1px 2px rgba(60, 64, 67, 0.3), 0px 1px 3px 1px rgba(60, 64, 67, 0.15);\n",
              "      fill: #174EA6;\n",
              "    }\n",
              "\n",
              "    [theme=dark] .colab-df-convert {\n",
              "      background-color: #3B4455;\n",
              "      fill: #D2E3FC;\n",
              "    }\n",
              "\n",
              "    [theme=dark] .colab-df-convert:hover {\n",
              "      background-color: #434B5C;\n",
              "      box-shadow: 0px 1px 3px 1px rgba(0, 0, 0, 0.15);\n",
              "      filter: drop-shadow(0px 1px 2px rgba(0, 0, 0, 0.3));\n",
              "      fill: #FFFFFF;\n",
              "    }\n",
              "  </style>\n",
              "\n",
              "      <script>\n",
              "        const buttonEl =\n",
              "          document.querySelector('#df-26d59d41-ff84-4493-be59-58d267abc201 button.colab-df-convert');\n",
              "        buttonEl.style.display =\n",
              "          google.colab.kernel.accessAllowed ? 'block' : 'none';\n",
              "\n",
              "        async function convertToInteractive(key) {\n",
              "          const element = document.querySelector('#df-26d59d41-ff84-4493-be59-58d267abc201');\n",
              "          const dataTable =\n",
              "            await google.colab.kernel.invokeFunction('convertToInteractive',\n",
              "                                                     [key], {});\n",
              "          if (!dataTable) return;\n",
              "\n",
              "          const docLinkHtml = 'Like what you see? Visit the ' +\n",
              "            '<a target=\"_blank\" href=https://colab.research.google.com/notebooks/data_table.ipynb>data table notebook</a>'\n",
              "            + ' to learn more about interactive tables.';\n",
              "          element.innerHTML = '';\n",
              "          dataTable['output_type'] = 'display_data';\n",
              "          await google.colab.output.renderOutput(dataTable, element);\n",
              "          const docLink = document.createElement('div');\n",
              "          docLink.innerHTML = docLinkHtml;\n",
              "          element.appendChild(docLink);\n",
              "        }\n",
              "      </script>\n",
              "    </div>\n",
              "  </div>\n",
              "  "
            ],
            "text/plain": [
              "                                   property_describe  ...                                       address\n",
              "0  Condomínio fechado com apartamentos de 2 dormi...  ...         Rua Gaspar Vaz da Cunha, Caixa D Agua\n",
              "1  Lindos apartamentos na planta de 2 e 3 dormitó...  ...            Rua Padre Fischer, Parque São Luís\n",
              "2  Condomínio fechado com apartamentos de 2 dormi...  ...  Avenida Arnaldo Felipe Sbruzzi, Piracangagua\n",
              "3  Maravilhoso apartamento com varanda Gourmet sa...  ...                       Rua Tebas, Vila Mascote\n",
              "4  O apartamento está localizado no bairro Sacomã...  ...            Rua Antônio Gomes Ferreira, Sacomã\n",
              "\n",
              "[5 rows x 7 columns]"
            ]
          },
          "metadata": {},
          "execution_count": 238
        }
      ]
    },
    {
      "cell_type": "code",
      "source": [
        "df.shape"
      ],
      "metadata": {
        "colab": {
          "base_uri": "https://localhost:8080/"
        },
        "id": "Sv6HsCHCxyCw",
        "outputId": "bfb21d03-3afc-4cff-d544-48422eb0f8b8"
      },
      "execution_count": 239,
      "outputs": [
        {
          "output_type": "execute_result",
          "data": {
            "text/plain": [
              "(231, 7)"
            ]
          },
          "metadata": {},
          "execution_count": 239
        }
      ]
    },
    {
      "cell_type": "code",
      "source": [
        "df.info()"
      ],
      "metadata": {
        "colab": {
          "base_uri": "https://localhost:8080/"
        },
        "id": "gwt0Y8ZVx0QY",
        "outputId": "b5bc2972-ca6d-425d-e82c-011bcaaf60a5"
      },
      "execution_count": 240,
      "outputs": [
        {
          "output_type": "stream",
          "name": "stdout",
          "text": [
            "<class 'pandas.core.frame.DataFrame'>\n",
            "RangeIndex: 231 entries, 0 to 230\n",
            "Data columns (total 7 columns):\n",
            " #   Column             Non-Null Count  Dtype  \n",
            "---  ------             --------------  -----  \n",
            " 0   property_describe  231 non-null    object \n",
            " 1   price              231 non-null    object \n",
            " 2   area               231 non-null    object \n",
            " 3   room               231 non-null    object \n",
            " 4   bath               227 non-null    float64\n",
            " 5   garage             231 non-null    object \n",
            " 6   address            231 non-null    object \n",
            "dtypes: float64(1), object(6)\n",
            "memory usage: 12.8+ KB\n"
          ]
        }
      ]
    },
    {
      "cell_type": "code",
      "source": [
        "df['room'].value_counts()"
      ],
      "metadata": {
        "colab": {
          "base_uri": "https://localhost:8080/"
        },
        "id": "8s6oSVzBx5jI",
        "outputId": "11d75167-0a29-42aa-abeb-662ef669af61"
      },
      "execution_count": 241,
      "outputs": [
        {
          "output_type": "execute_result",
          "data": {
            "text/plain": [
              "2        151\n",
              "3         60\n",
              "4         15\n",
              "2 - 3      4\n",
              "1          1\n",
              "Name: room, dtype: int64"
            ]
          },
          "metadata": {},
          "execution_count": 241
        }
      ]
    },
    {
      "cell_type": "code",
      "source": [
        "df['bath'].value_counts()"
      ],
      "metadata": {
        "colab": {
          "base_uri": "https://localhost:8080/"
        },
        "id": "-Uj_JXO9yXkS",
        "outputId": "a5b2d6df-e442-4aaa-b415-e9a52830e787"
      },
      "execution_count": 242,
      "outputs": [
        {
          "output_type": "execute_result",
          "data": {
            "text/plain": [
              "2.0     95\n",
              "1.0     90\n",
              "4.0     22\n",
              "3.0     14\n",
              "5.0      5\n",
              "33.0     1\n",
              "Name: bath, dtype: int64"
            ]
          },
          "metadata": {},
          "execution_count": 242
        }
      ]
    },
    {
      "cell_type": "code",
      "source": [
        "df['garage'].value_counts()"
      ],
      "metadata": {
        "colab": {
          "base_uri": "https://localhost:8080/"
        },
        "id": "QKHBDjtNybRc",
        "outputId": "7912a6ad-bbc4-473f-b25c-6765fd8ecf78"
      },
      "execution_count": 243,
      "outputs": [
        {
          "output_type": "execute_result",
          "data": {
            "text/plain": [
              "1        163\n",
              "2         42\n",
              "3         13\n",
              "4          5\n",
              "6          5\n",
              "1 - 2      3\n",
              "Name: garage, dtype: int64"
            ]
          },
          "metadata": {},
          "execution_count": 243
        }
      ]
    },
    {
      "cell_type": "code",
      "source": [
        "df['area'].value_counts()"
      ],
      "metadata": {
        "colab": {
          "base_uri": "https://localhost:8080/"
        },
        "id": "fvUMjEsa17C7",
        "outputId": "99730ce3-d2e2-46b1-859a-8773063d77fd"
      },
      "execution_count": 244,
      "outputs": [
        {
          "output_type": "execute_result",
          "data": {
            "text/plain": [
              "50 m²           25\n",
              "53 m²           23\n",
              "52 m²           19\n",
              "86 m²           10\n",
              "100 m²           9\n",
              "54 m²            9\n",
              "206 m²           9\n",
              "49 m²            6\n",
              "51 m²            5\n",
              "180 m²           5\n",
              "178 m²           5\n",
              "266 m²           5\n",
              "367 m²           5\n",
              "83 m²            5\n",
              "47 m²            5\n",
              "64 m²            5\n",
              "44 - 46 m²       5\n",
              "42 - 83 m²       5\n",
              "85 m²            5\n",
              "77 m²            5\n",
              "70 m²            5\n",
              "90 m²            5\n",
              "81 m²            4\n",
              "82 m²            4\n",
              "55 m²            4\n",
              "145 m²           4\n",
              "60 m²            4\n",
              "59 m²            4\n",
              "39 m²            3\n",
              "35 m²            3\n",
              "89 m²            3\n",
              "40 m²            2\n",
              "87 m²            1\n",
              "56 m²            1\n",
              "43 m²            1\n",
              "104 m²           1\n",
              "38 m²            1\n",
              "151 m²           1\n",
              "39 - 45 m²       1\n",
              "127 m²           1\n",
              "173 m²           1\n",
              "190 m²           1\n",
              "68 - 82 m²       1\n",
              "38 - 39 m²       1\n",
              "110 - 134 m²     1\n",
              "50 - 51 m²       1\n",
              "63 m²            1\n",
              "67 - 122 m²      1\n",
              "Name: area, dtype: int64"
            ]
          },
          "metadata": {},
          "execution_count": 244
        }
      ]
    },
    {
      "cell_type": "code",
      "source": [
        "df['price'].value_counts()"
      ],
      "metadata": {
        "colab": {
          "base_uri": "https://localhost:8080/"
        },
        "id": "_lDxyJbF8DJR",
        "outputId": "30cd2b13-9a83-47e8-a832-c1e19669acab"
      },
      "execution_count": 245,
      "outputs": [
        {
          "output_type": "execute_result",
          "data": {
            "text/plain": [
              "R$ 300.000      14\n",
              "Sob consulta    12\n",
              "R$ 309.000      10\n",
              "R$ 853.830      10\n",
              "R$ 255.000      10\n",
              "R$ 950.000       9\n",
              "R$ 1.400.000     9\n",
              "R$ 325.000       9\n",
              "R$ 650.000       9\n",
              "R$ 333.190       5\n",
              "R$ 850.000       5\n",
              "R$ 199.000       5\n",
              "R$ 425.000       5\n",
              "R$ 981.000       5\n",
              "R$ 2.600.000     5\n",
              "R$ 4.800.000     5\n",
              "R$ 429.000       5\n",
              "R$ 280.000       5\n",
              "R$ 210.000       5\n",
              "R$ 218.000       5\n",
              "R$ 1.390.000     5\n",
              "R$ 970.861       5\n",
              "R$ 8.800.000     5\n",
              "R$ 250.000       5\n",
              "R$ 420.000       4\n",
              "R$ 330.000       4\n",
              "R$ 290.000       4\n",
              "R$ 295.000       4\n",
              "R$ 600.000       4\n",
              "R$ 1.320.000     4\n",
              "R$ 364.000       4\n",
              "R$ 570.000       4\n",
              "R$ 670.000       4\n",
              "R$ 163.000       3\n",
              "R$ 949.000       3\n",
              "R$ 590.000       1\n",
              "R$ 308.000       1\n",
              "R$ 480.000       1\n",
              "R$ 200.000       1\n",
              "R$ 162.990       1\n",
              "R$ 700.000       1\n",
              "R$ 1.500.000     1\n",
              "R$ 163.990       1\n",
              "R$ 155.990       1\n",
              "R$ 158.490       1\n",
              "R$ 256.200       1\n",
              "R$ 229.000       1\n",
              "R$ 430.000       1\n",
              "R$ 4.180.000     1\n",
              "R$ 1.250.000     1\n",
              "R$ 975.000       1\n",
              "R$ 185.340       1\n",
              "R$ 170.490       1\n",
              "R$ 163.490       1\n",
              "R$ 1.750.000     1\n",
              "R$ 299.000       1\n",
              "R$ 152.690       1\n",
              "Name: price, dtype: int64"
            ]
          },
          "metadata": {},
          "execution_count": 245
        }
      ]
    },
    {
      "cell_type": "code",
      "source": [
        "df['address'].value_counts()"
      ],
      "metadata": {
        "colab": {
          "base_uri": "https://localhost:8080/"
        },
        "id": "DRTPPwgyyesj",
        "outputId": "101ef727-020d-48fd-c72b-ed4256dbec15"
      },
      "execution_count": 246,
      "outputs": [
        {
          "output_type": "execute_result",
          "data": {
            "text/plain": [
              "Rua Nicolau Tolentino de Almeida, Vila Dionísia       10\n",
              "Rua Engenheira Amália Pérola Cassab, Parque Munhoz    10\n",
              "Avenida dos Carinás, Moema                            10\n",
              "Rua Sebastião Carneiro, Vila Monumento                 9\n",
              "Rua Benedito Faber, Morumbi                            9\n",
              "                                                      ..\n",
              "Rua Olímpio Portugal, Móoca                            1\n",
              "Rua Francisco José da Silva, Morumbi                   1\n",
              "Rua Cancioneiro Popular, Chácara Santo Antônio         1\n",
              "Avenida Professor Celestino Bourroul, Limão            1\n",
              "Rua Albatroz, Praia Grande                             1\n",
              "Name: address, Length: 62, dtype: int64"
            ]
          },
          "metadata": {},
          "execution_count": 246
        }
      ]
    },
    {
      "cell_type": "code",
      "source": [
        "df['area'] = df['area'].str.replace(r\"\\-.*\",\"\").str.replace(r\" m²\",\"\").astype(float)"
      ],
      "metadata": {
        "colab": {
          "base_uri": "https://localhost:8080/"
        },
        "id": "WqP3LPR-2y9h",
        "outputId": "6dd4ad01-0424-4d6e-a5c6-4229b72ad9cc"
      },
      "execution_count": 247,
      "outputs": [
        {
          "output_type": "stream",
          "name": "stderr",
          "text": [
            "/usr/local/lib/python3.7/dist-packages/ipykernel_launcher.py:1: FutureWarning: The default value of regex will change from True to False in a future version.\n",
            "  \"\"\"Entry point for launching an IPython kernel.\n"
          ]
        }
      ]
    },
    {
      "cell_type": "code",
      "source": [
        "df['price'] = df['price'].str.replace('R$ ', '', regex = False).str.replace('.', '', regex = False).replace('Sob consulta', np.nan).astype(float)"
      ],
      "metadata": {
        "id": "dcGFE5r_5sb6"
      },
      "execution_count": 248,
      "outputs": []
    },
    {
      "cell_type": "code",
      "source": [
        "df['room'] = df['room'].str.replace('2 - 3', '2').astype(float)"
      ],
      "metadata": {
        "id": "AQ7njVSP1Mrr"
      },
      "execution_count": 249,
      "outputs": []
    },
    {
      "cell_type": "code",
      "source": [
        "df['garage'] = df['garage'].str.replace('1 - 2', '1').astype(float)"
      ],
      "metadata": {
        "id": "9Kr11OHu1je8"
      },
      "execution_count": 250,
      "outputs": []
    },
    {
      "cell_type": "code",
      "source": [
        "# Separando o bairro do endereço\n",
        "df[['street','neighbourhood']] = df.address.str.split(pat=',', expand=True)"
      ],
      "metadata": {
        "id": "yxtDIWFj0Sz6"
      },
      "execution_count": 251,
      "outputs": []
    },
    {
      "cell_type": "code",
      "source": [
        "df.drop(columns= ['address', 'street'], axis=1, inplace=True)"
      ],
      "metadata": {
        "id": "bvVXBHRh9jjH"
      },
      "execution_count": 252,
      "outputs": []
    },
    {
      "cell_type": "code",
      "source": [
        "df.info()"
      ],
      "metadata": {
        "colab": {
          "base_uri": "https://localhost:8080/"
        },
        "id": "WIVmbyNi1zvk",
        "outputId": "46ffce86-cfdb-41a7-dfb9-29f5383da213"
      },
      "execution_count": 253,
      "outputs": [
        {
          "output_type": "stream",
          "name": "stdout",
          "text": [
            "<class 'pandas.core.frame.DataFrame'>\n",
            "RangeIndex: 231 entries, 0 to 230\n",
            "Data columns (total 7 columns):\n",
            " #   Column             Non-Null Count  Dtype  \n",
            "---  ------             --------------  -----  \n",
            " 0   property_describe  231 non-null    object \n",
            " 1   price              219 non-null    float64\n",
            " 2   area               231 non-null    float64\n",
            " 3   room               231 non-null    float64\n",
            " 4   bath               227 non-null    float64\n",
            " 5   garage             231 non-null    float64\n",
            " 6   neighbourhood      231 non-null    object \n",
            "dtypes: float64(5), object(2)\n",
            "memory usage: 12.8+ KB\n"
          ]
        }
      ]
    },
    {
      "cell_type": "code",
      "source": [
        "sns.heatmap(df.corr(), annot=True)"
      ],
      "metadata": {
        "colab": {
          "base_uri": "https://localhost:8080/",
          "height": 286
        },
        "id": "GTrPktPq9zCY",
        "outputId": "7bb8f89c-cdc2-44b6-8c9c-a97ca8086f50"
      },
      "execution_count": 254,
      "outputs": [
        {
          "output_type": "execute_result",
          "data": {
            "text/plain": [
              "<matplotlib.axes._subplots.AxesSubplot at 0x7f30fd269510>"
            ]
          },
          "metadata": {},
          "execution_count": 254
        },
        {
          "output_type": "display_data",
          "data": {
            "image/png": "[encoded data removed]",
            "text/plain": [
              "<Figure size 432x288 with 2 Axes>"
            ]
          },
          "metadata": {
            "needs_background": "light"
          }
        }
      ]
    },
    {
      "cell_type": "code",
      "source": [
        "feat_num = ['price', 'area', 'room', 'bath', 'garage']"
      ],
      "metadata": {
        "id": "3T9Im_qY-Rzo"
      },
      "execution_count": 255,
      "outputs": []
    },
    {
      "cell_type": "code",
      "source": [
        "sns.pairplot(df[feat_num])"
      ],
      "metadata": {
        "colab": {
          "base_uri": "https://localhost:8080/",
          "height": 920
        },
        "id": "GtfghPc8-Iaw",
        "outputId": "8453f837-9ae2-4d78-cafa-93275782a965"
      },
      "execution_count": 256,
      "outputs": [
        {
          "output_type": "execute_result",
          "data": {
            "text/plain": [
              "<seaborn.axisgrid.PairGrid at 0x7f30feab2690>"
            ]
          },
          "metadata": {},
          "execution_count": 256
        },
        {
          "output_type": "display_data",
          "data": {
            "image/png": "[encoded data removed]",
            "text/plain": [
              "<Figure size 900x900 with 30 Axes>"
            ]
          },
          "metadata": {
            "needs_background": "light"
          }
        }
      ]
    },
    {
      "cell_type": "code",
      "source": [
        "fig, axes = plt.subplots(nrows=1, ncols=5)\n",
        "fig.set_size_inches(15,4)\n",
        "\n",
        "for i in range(5):\n",
        "  sns.violinplot(data= df, y = feat_num[i], ax=axes[i])\n",
        "\n",
        "plt.tight_layout()\n",
        "\n",
        "plt.show()"
      ],
      "metadata": {
        "colab": {
          "base_uri": "https://localhost:8080/",
          "height": 263
        },
        "id": "jON02_Kn-yms",
        "outputId": "100e9844-a6c3-4543-db22-a17811c0058b"
      },
      "execution_count": 257,
      "outputs": [
        {
          "output_type": "display_data",
          "data": {
            "image/png": "[encoded data removed]",
            "text/plain": [
              "<Figure size 1080x288 with 5 Axes>"
            ]
          },
          "metadata": {
            "needs_background": "light"
          }
        }
      ]
    },
    {
      "cell_type": "markdown",
      "source": [
        "### Removendo espaços nulos"
      ],
      "metadata": {
        "id": "4gUtr_epEgh8"
      }
    },
    {
      "cell_type": "code",
      "source": [
        "print('Quantidade de linhas nulas\\n')\n",
        "for col in df.columns:\n",
        "  print(f'{col}: {df[col].isna().sum()}')"
      ],
      "metadata": {
        "colab": {
          "base_uri": "https://localhost:8080/"
        },
        "id": "XnbJvX7bFJTP",
        "outputId": "cc58e191-825c-4ff3-be76-2eca4ce378a9"
      },
      "execution_count": 258,
      "outputs": [
        {
          "output_type": "stream",
          "name": "stdout",
          "text": [
            "Quantidade de linhas nulas\n",
            "\n",
            "property_describe: 0\n",
            "price: 12\n",
            "area: 0\n",
            "room: 0\n",
            "bath: 4\n",
            "garage: 0\n",
            "neighbourhood: 0\n"
          ]
        }
      ]
    },
    {
      "cell_type": "code",
      "source": [
        "df.dropna(subset=['price', 'bath'], inplace=True)"
      ],
      "metadata": {
        "id": "oW9JegbaD6UQ"
      },
      "execution_count": 259,
      "outputs": []
    },
    {
      "cell_type": "markdown",
      "source": [
        "### Remoção de Outliers"
      ],
      "metadata": {
        "id": "ZMOwfSL4Bty2"
      }
    },
    {
      "cell_type": "code",
      "source": [
        "def z_score_remove(df, col):\n",
        "  z = np.abs(stats.zscore(df[col]))\n",
        "  return df[(z<2)]"
      ],
      "metadata": {
        "id": "tkhaXeDrBcwr"
      },
      "execution_count": 260,
      "outputs": []
    },
    {
      "cell_type": "code",
      "source": [
        "df = z_score_remove(df, 'price')\n",
        "df = z_score_remove(df, 'bath')"
      ],
      "metadata": {
        "id": "bJ7_lpbeCjTz"
      },
      "execution_count": 261,
      "outputs": []
    },
    {
      "cell_type": "code",
      "source": [
        "fig, axes = plt.subplots(nrows=1, ncols=5)\n",
        "fig.set_size_inches(15,4)\n",
        "\n",
        "for i in range(5):\n",
        "  sns.violinplot(data= df, y = feat_num[i], ax=axes[i])\n",
        "\n",
        "plt.tight_layout()\n",
        "\n",
        "plt.show()"
      ],
      "metadata": {
        "colab": {
          "base_uri": "https://localhost:8080/",
          "height": 263
        },
        "id": "qxGbaPI9C3xr",
        "outputId": "92a42ba7-e410-42c4-ebf4-ea2074349789"
      },
      "execution_count": 262,
      "outputs": [
        {
          "output_type": "display_data",
          "data": {
            "image/png": "[encoded data removed]",
            "text/plain": [
              "<Figure size 1080x288 with 5 Axes>"
            ]
          },
          "metadata": {
            "needs_background": "light"
          }
        }
      ]
    },
    {
      "cell_type": "markdown",
      "source": [
        "## Análise de variáveis categóricas"
      ],
      "metadata": {
        "id": "BvBpmuEPGbuX"
      }
    },
    {
      "cell_type": "code",
      "source": [
        "df['neighbourhood'].value_counts()"
      ],
      "metadata": {
        "colab": {
          "base_uri": "https://localhost:8080/"
        },
        "id": "ZMycIKDWGYcO",
        "outputId": "54d85d60-0e2d-44a8-e833-67bf4a7ad2fe"
      },
      "execution_count": 263,
      "outputs": [
        {
          "output_type": "execute_result",
          "data": {
            "text/plain": [
              " São Paulo                         18\n",
              " Moema                             15\n",
              " Morumbi                           14\n",
              " Parque Munhoz                     10\n",
              " Vila Dionísia                     10\n",
              " Jardim Ampliação                   9\n",
              " Jardim Leonor Mendes de Barros     9\n",
              " Vila Monumento                     9\n",
              " Jardim das Acacias                 5\n",
              " Jardim Novo Taboão                 5\n",
              " Vila Pirajussara                   5\n",
              " Vila Maria Alta                    5\n",
              " Vila Água Funda                    5\n",
              " Penha                              5\n",
              " Vila Nova Conceição                5\n",
              " Fazenda Aricanduva                 5\n",
              " Higienópolis                       5\n",
              " Centro                             5\n",
              " Jabaquara                          5\n",
              " Freguesia do Ó                     4\n",
              " Jardim Santa Emília                4\n",
              " Tucuruvi                           4\n",
              " Jardim Iracema                     4\n",
              " Água Branca                        4\n",
              " Pinheiros                          4\n",
              " Vila Ema                           4\n",
              " Consolação                         4\n",
              " Sacomã                             3\n",
              " Vila Mascote                       3\n",
              " Jardim Europa                      2\n",
              " Interlagos                         1\n",
              " Penha De Franca                    1\n",
              " Caixa D Agua                       1\n",
              " José Bonifácio                     1\n",
              " Vila Suzana                        1\n",
              " Limão                              1\n",
              " Chácara Santo Antônio              1\n",
              " Móoca                              1\n",
              "                                    1\n",
              " Vila Andrade                       1\n",
              " Vila Nova Aliança                  1\n",
              " Piracangagua                       1\n",
              " Santana                            1\n",
              " Loteamento Jardim Ana Maria        1\n",
              "Name: neighbourhood, dtype: int64"
            ]
          },
          "metadata": {},
          "execution_count": 263
        }
      ]
    },
    {
      "cell_type": "code",
      "source": [
        "df.head()"
      ],
      "metadata": {
        "colab": {
          "base_uri": "https://localhost:8080/",
          "height": 206
        },
        "id": "CJRN_7HuIbwW",
        "outputId": "0be92d24-88ea-4c4e-8547-644b128c8028"
      },
      "execution_count": 264,
      "outputs": [
        {
          "output_type": "execute_result",
          "data": {
            "text/html": [
              "\n",
              "  <div id=\"df-612261df-f97c-42cb-b503-0f1eb09a68c5\">\n",
              "    <div class=\"colab-df-container\">\n",
              "      <div>\n",
              "<style scoped>\n",
              "    .dataframe tbody tr th:only-of-type {\n",
              "        vertical-align: middle;\n",
              "    }\n",
              "\n",
              "    .dataframe tbody tr th {\n",
              "        vertical-align: top;\n",
              "    }\n",
              "\n",
              "    .dataframe thead th {\n",
              "        text-align: right;\n",
              "    }\n",
              "</style>\n",
              "<table border=\"1\" class=\"dataframe\">\n",
              "  <thead>\n",
              "    <tr style=\"text-align: right;\">\n",
              "      <th></th>\n",
              "      <th>property_describe</th>\n",
              "      <th>price</th>\n",
              "      <th>area</th>\n",
              "      <th>room</th>\n",
              "      <th>bath</th>\n",
              "      <th>garage</th>\n",
              "      <th>neighbourhood</th>\n",
              "    </tr>\n",
              "  </thead>\n",
              "  <tbody>\n",
              "    <tr>\n",
              "      <th>0</th>\n",
              "      <td>Condomínio fechado com apartamentos de 2 dormi...</td>\n",
              "      <td>162990.0</td>\n",
              "      <td>40.0</td>\n",
              "      <td>2.0</td>\n",
              "      <td>1.0</td>\n",
              "      <td>1.0</td>\n",
              "      <td>Caixa D Agua</td>\n",
              "    </tr>\n",
              "    <tr>\n",
              "      <th>2</th>\n",
              "      <td>Condomínio fechado com apartamentos de 2 dormi...</td>\n",
              "      <td>163990.0</td>\n",
              "      <td>40.0</td>\n",
              "      <td>2.0</td>\n",
              "      <td>1.0</td>\n",
              "      <td>1.0</td>\n",
              "      <td>Piracangagua</td>\n",
              "    </tr>\n",
              "    <tr>\n",
              "      <th>3</th>\n",
              "      <td>Maravilhoso apartamento com varanda Gourmet sa...</td>\n",
              "      <td>949000.0</td>\n",
              "      <td>89.0</td>\n",
              "      <td>3.0</td>\n",
              "      <td>3.0</td>\n",
              "      <td>2.0</td>\n",
              "      <td>Vila Mascote</td>\n",
              "    </tr>\n",
              "    <tr>\n",
              "      <th>4</th>\n",
              "      <td>O apartamento está localizado no bairro Sacomã...</td>\n",
              "      <td>163000.0</td>\n",
              "      <td>35.0</td>\n",
              "      <td>2.0</td>\n",
              "      <td>1.0</td>\n",
              "      <td>1.0</td>\n",
              "      <td>Sacomã</td>\n",
              "    </tr>\n",
              "    <tr>\n",
              "      <th>5</th>\n",
              "      <td>Andar alto! Vista de todas janelas! Bate sol, ...</td>\n",
              "      <td>570000.0</td>\n",
              "      <td>53.0</td>\n",
              "      <td>2.0</td>\n",
              "      <td>1.0</td>\n",
              "      <td>1.0</td>\n",
              "      <td>Consolação</td>\n",
              "    </tr>\n",
              "  </tbody>\n",
              "</table>\n",
              "</div>\n",
              "      <button class=\"colab-df-convert\" onclick=\"convertToInteractive('df-612261df-f97c-42cb-b503-0f1eb09a68c5')\"\n",
              "              title=\"Convert this dataframe to an interactive table.\"\n",
              "              style=\"display:none;\">\n",
              "        \n",
              "  <svg xmlns=\"http://www.w3.org/2000/svg\" height=\"24px\"viewBox=\"0 0 24 24\"\n",
              "       width=\"24px\">\n",
              "    <path d=\"M0 0h24v24H0V0z\" fill=\"none\"/>\n",
              "    <path d=\"M18.56 5.44l.94 2.06.94-2.06 2.06-.94-2.06-.94-.94-2.06-.94 2.06-2.06.94zm-11 1L8.5 8.5l.94-2.06 2.06-.94-2.06-.94L8.5 2.5l-.94 2.06-2.06.94zm10 10l.94 2.06.94-2.06 2.06-.94-2.06-.94-.94-2.06-.94 2.06-2.06.94z\"/><path d=\"M17.41 7.96l-1.37-1.37c-.4-.4-.92-.59-1.43-.59-.52 0-1.04.2-1.43.59L10.3 9.45l-7.72 7.72c-.78.78-.78 2.05 0 2.83L4 21.41c.39.39.9.59 1.41.59.51 0 1.02-.2 1.41-.59l7.78-7.78 2.81-2.81c.8-.78.8-2.07 0-2.86zM5.41 20L4 18.59l7.72-7.72 1.47 1.35L5.41 20z\"/>\n",
              "  </svg>\n",
              "      </button>\n",
              "      \n",
              "  <style>\n",
              "    .colab-df-container {\n",
              "      display:flex;\n",
              "      flex-wrap:wrap;\n",
              "      gap: 12px;\n",
              "    }\n",
              "\n",
              "    .colab-df-convert {\n",
              "      background-color: #E8F0FE;\n",
              "      border: none;\n",
              "      border-radius: 50%;\n",
              "      cursor: pointer;\n",
              "      display: none;\n",
              "      fill: #1967D2;\n",
              "      height: 32px;\n",
              "      padding: 0 0 0 0;\n",
              "      width: 32px;\n",
              "    }\n",
              "\n",
              "    .colab-df-convert:hover {\n",
              "      background-color: #E2EBFA;\n",
              "      box-shadow: 0px 1px 2px rgba(60, 64, 67, 0.3), 0px 1px 3px 1px rgba(60, 64, 67, 0.15);\n",
              "      fill: #174EA6;\n",
              "    }\n",
              "\n",
              "    [theme=dark] .colab-df-convert {\n",
              "      background-color: #3B4455;\n",
              "      fill: #D2E3FC;\n",
              "    }\n",
              "\n",
              "    [theme=dark] .colab-df-convert:hover {\n",
              "      background-color: #434B5C;\n",
              "      box-shadow: 0px 1px 3px 1px rgba(0, 0, 0, 0.15);\n",
              "      filter: drop-shadow(0px 1px 2px rgba(0, 0, 0, 0.3));\n",
              "      fill: #FFFFFF;\n",
              "    }\n",
              "  </style>\n",
              "\n",
              "      <script>\n",
              "        const buttonEl =\n",
              "          document.querySelector('#df-612261df-f97c-42cb-b503-0f1eb09a68c5 button.colab-df-convert');\n",
              "        buttonEl.style.display =\n",
              "          google.colab.kernel.accessAllowed ? 'block' : 'none';\n",
              "\n",
              "        async function convertToInteractive(key) {\n",
              "          const element = document.querySelector('#df-612261df-f97c-42cb-b503-0f1eb09a68c5');\n",
              "          const dataTable =\n",
              "            await google.colab.kernel.invokeFunction('convertToInteractive',\n",
              "                                                     [key], {});\n",
              "          if (!dataTable) return;\n",
              "\n",
              "          const docLinkHtml = 'Like what you see? Visit the ' +\n",
              "            '<a target=\"_blank\" href=https://colab.research.google.com/notebooks/data_table.ipynb>data table notebook</a>'\n",
              "            + ' to learn more about interactive tables.';\n",
              "          element.innerHTML = '';\n",
              "          dataTable['output_type'] = 'display_data';\n",
              "          await google.colab.output.renderOutput(dataTable, element);\n",
              "          const docLink = document.createElement('div');\n",
              "          docLink.innerHTML = docLinkHtml;\n",
              "          element.appendChild(docLink);\n",
              "        }\n",
              "      </script>\n",
              "    </div>\n",
              "  </div>\n",
              "  "
            ],
            "text/plain": [
              "                                   property_describe  ...  neighbourhood\n",
              "0  Condomínio fechado com apartamentos de 2 dormi...  ...   Caixa D Agua\n",
              "2  Condomínio fechado com apartamentos de 2 dormi...  ...   Piracangagua\n",
              "3  Maravilhoso apartamento com varanda Gourmet sa...  ...   Vila Mascote\n",
              "4  O apartamento está localizado no bairro Sacomã...  ...         Sacomã\n",
              "5  Andar alto! Vista de todas janelas! Bate sol, ...  ...     Consolação\n",
              "\n",
              "[5 rows x 7 columns]"
            ]
          },
          "metadata": {},
          "execution_count": 264
        }
      ]
    },
    {
      "cell_type": "markdown",
      "source": [
        "## Transformação de dados"
      ],
      "metadata": {
        "id": "8OixUXoUGUvw"
      }
    },
    {
      "cell_type": "code",
      "source": [
        "z_score = StandardScaler()\n",
        "def std_z_scale(df,col):\n",
        "  df[col] = z_score.fit_transform(df[[col]])"
      ],
      "metadata": {
        "id": "SxEHSyLaImtI"
      },
      "execution_count": 265,
      "outputs": []
    },
    {
      "cell_type": "code",
      "source": [
        "for col in feat_num:\n",
        "  std_z_scale(df, col)"
      ],
      "metadata": {
        "id": "9r1aB7vzIqwU"
      },
      "execution_count": 266,
      "outputs": []
    },
    {
      "cell_type": "code",
      "source": [
        "df[feat_num].hist(figsize=(10,10), bins=10)\n",
        "plt.show()"
      ],
      "metadata": {
        "colab": {
          "base_uri": "https://localhost:8080/",
          "height": 607
        },
        "id": "xzSGH8syI8vv",
        "outputId": "a348a1e3-4dbf-4d3e-b143-68a86d5ed765"
      },
      "execution_count": 267,
      "outputs": [
        {
          "output_type": "display_data",
          "data": {
            "image/png": "[encoded data removed]",
            "text/plain": [
              "<Figure size 720x720 with 6 Axes>"
            ]
          },
          "metadata": {
            "needs_background": "light"
          }
        }
      ]
    },
    {
      "cell_type": "code",
      "source": [
        "df = df.reset_index()\n",
        "df = df.drop(columns=['index', 'property_describe'])"
      ],
      "metadata": {
        "id": "N9B9fNJzJgxi"
      },
      "execution_count": 268,
      "outputs": []
    },
    {
      "cell_type": "markdown",
      "source": [
        "### Exportando resultado"
      ],
      "metadata": {
        "id": "yK3zYlpwLB_L"
      }
    },
    {
      "cell_type": "code",
      "source": [
        "df.to_csv('train_test.csv', encoding='utf-8-sig')"
      ],
      "metadata": {
        "id": "NQG2Y6bYLBj9"
      },
      "execution_count": 271,
      "outputs": []
    }
  ]
}