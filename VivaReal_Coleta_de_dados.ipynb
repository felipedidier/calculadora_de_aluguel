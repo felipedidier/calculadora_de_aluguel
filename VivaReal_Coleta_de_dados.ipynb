{
  "nbformat": 4,
  "nbformat_minor": 0,
  "metadata": {
    "colab": {
      "name": "VivaReal_Coleta_de_dados.ipynb",
      "provenance": [],
      "mount_file_id": "1ltFQbMU2Y_N-TvN2uEBjZq3Nckj7h0e-",
      "authorship_tag": "ABX9TyNbgWQGK35vz363yEWFcboo",
      "include_colab_link": true
    },
    "kernelspec": {
      "name": "python3",
      "display_name": "Python 3"
    },
    "language_info": {
      "name": "python"
    }
  },
  "cells": [
    {
      "cell_type": "markdown",
      "metadata": {
        "id": "view-in-github",
        "colab_type": "text"
      },
      "source": [
        "<a href=\"https://colab.research.google.com/github/felipedidier/webscraping_calculadora_de_aluguel/blob/main/VivaReal_Coleta_de_dados.ipynb\" target=\"_parent\"><img src=\"https://colab.research.google.com/assets/colab-badge.svg\" alt=\"Open In Colab\"/></a>"
      ]
    },
    {
      "cell_type": "code",
      "source": [
        "!pip install selenium\n"
      ],
      "metadata": {
        "id": "-SdwxwwY7uoJ"
      },
      "execution_count": null,
      "outputs": []
    },
    {
      "cell_type": "code",
      "source": [
        "!apt-get update \n",
        "!apt install chromium-chromedriver"
      ],
      "metadata": {
        "id": "nqloQimzC905"
      },
      "execution_count": null,
      "outputs": []
    },
    {
      "cell_type": "markdown",
      "source": [
        "# Coletando os dados"
      ],
      "metadata": {
        "id": "Cc2IDcoB7-sG"
      }
    },
    {
      "cell_type": "markdown",
      "source": [
        "O programa realizará a coleta de dados a partir de WebScraping com Selenium. Será utilizado o driver do Google Chrome para esse processo."
      ],
      "metadata": {
        "id": "JsuhL7fP8C3v"
      }
    },
    {
      "cell_type": "code",
      "source": [
        "import time\n",
        "from selenium import webdriver\n",
        "from selenium.webdriver.chrome.options import Options\n",
        "\n",
        "import pandas as pd"
      ],
      "metadata": {
        "id": "XwfpxOa27naK"
      },
      "execution_count": 74,
      "outputs": []
    },
    {
      "cell_type": "code",
      "source": [
        "from google.colab import drive\n",
        "drive.mount('drive')"
      ],
      "metadata": {
        "colab": {
          "base_uri": "https://localhost:8080/"
        },
        "id": "jLOazhmbbpvV",
        "outputId": "b8357ad1-f6dd-4baa-e4b3-0fd414de1449"
      },
      "execution_count": 75,
      "outputs": [
        {
          "output_type": "stream",
          "name": "stdout",
          "text": [
            "Drive already mounted at drive; to attempt to forcibly remount, call drive.mount(\"drive\", force_remount=True).\n"
          ]
        }
      ]
    },
    {
      "cell_type": "markdown",
      "source": [
        "Definindo as caracteristicas da janela Desktop"
      ],
      "metadata": {
        "id": "OQ9uKg188YeG"
      }
    },
    {
      "cell_type": "code",
      "source": [
        "chrome_options = Options()\n",
        "chrome_options.add_argument(\"--incognito\") #Consulta anônima\n",
        "chrome_options.add_argument(\"--window-size=1920x1080\") #Dimensões da janela"
      ],
      "metadata": {
        "id": "2TWr0DUG8Vo3"
      },
      "execution_count": 76,
      "outputs": []
    },
    {
      "cell_type": "code",
      "source": [
        "chrome_options.add_argument('--headless')\n",
        "chrome_options.add_argument('--no-sandbox')\n",
        "chrome_options.add_argument('--disable-dev-shm-usage')\n",
        "driver = webdriver.Chrome('chromedriver',chrome_options=chrome_options)"
      ],
      "metadata": {
        "colab": {
          "base_uri": "https://localhost:8080/"
        },
        "id": "LiSq8jUf-jVT",
        "outputId": "11e888a1-ebb0-430c-9010-4b0b95481e53"
      },
      "execution_count": 77,
      "outputs": [
        {
          "output_type": "stream",
          "name": "stderr",
          "text": [
            "/usr/local/lib/python3.7/dist-packages/ipykernel_launcher.py:4: DeprecationWarning: use options instead of chrome_options\n",
            "  after removing the cwd from sys.path.\n"
          ]
        }
      ]
    },
    {
      "cell_type": "code",
      "source": [
        "def viva_real(i):\n",
        "\n",
        "  list_property_title = []\n",
        "  list_price = []\n",
        "  list_property_area = []\n",
        "  list_property_room = []\n",
        "  list_property_bath = []\n",
        "  list_property_garage = []\n",
        "  list_property_address = []\n",
        "\n",
        "  for num in range(1, i+1):\n",
        "    try:\n",
        "      url = f'https://www.vivareal.com.br/venda/sp/sao-paulo/apartamento_residencial/?pagina={num}'\n",
        "      driver.get(url)\n",
        "      time.sleep(2)\n",
        "      list_pag = driver.find_element_by_xpath('//*[@id=\"js-site-main\"]/div[2]/div[1]/section')\n",
        "      \n",
        "      #Título da propriedade\n",
        "      property_title = list_pag.find_elements_by_css_selector('.property-card__title')\n",
        "      list_property_title = list_property_title + [el.text for el in property_title]\n",
        "\n",
        "      #Preço da propriedade\n",
        "      price = list_pag.find_elements_by_css_selector('.property-card__price')\n",
        "      list_price = list_price + [el.text for el in price]\n",
        "\n",
        "      #Área da propriedade\n",
        "      property_area = list_pag.find_elements_by_css_selector('.js-property-card-detail-area')\n",
        "      list_property_area = list_property_area + [el.text for el in property_area]\n",
        "\n",
        "      #Quarto da propriedade\n",
        "      property_room = list_pag.find_elements_by_css_selector('.property-card__detail-room')\n",
        "      list_property_room = list_property_room + [el.text for el in property_room]\n",
        "\n",
        "      #Banheiro da propriedade\n",
        "      property_bath = list_pag.find_elements_by_css_selector('.property-card__detail-bathroom')\n",
        "      list_property_bath = list_property_bath + [el.text for el in property_bath]\n",
        "\n",
        "      #Garagem da propriedade\n",
        "      property_garage = list_pag.find_elements_by_css_selector('.property-card__detail-garage')\n",
        "      list_property_garage = list_property_garage + [el.text for el in property_garage]\n",
        "\n",
        "      #Endereço da propriedade\n",
        "      property_address = list_pag.find_elements_by_css_selector('.property-card__address')\n",
        "      list_property_address = list_property_address + [el.text for el in property_address]\n",
        "    except:\n",
        "      pass\n",
        "  \n",
        "  df = pd.DataFrame(zip(list_property_title, list_price, list_property_area, list_property_room, list_property_bath, list_property_garage, list_property_address), columns=['property_title', 'price', 'area', 'room', 'bath', 'garage', 'address'])\n",
        "  return df"
      ],
      "metadata": {
        "id": "AbyJZfkpU5d9"
      },
      "execution_count": 98,
      "outputs": []
    },
    {
      "cell_type": "code",
      "source": [
        "df = viva_real(30)\n",
        "df.to_csv('/content/drive/MyDrive/Colab Notebooks/viva_real_selenium.csv')"
      ],
      "metadata": {
        "colab": {
          "base_uri": "https://localhost:8080/"
        },
        "id": "0pumfxtOV6wT",
        "outputId": "98c30655-62b8-40ba-bd54-3e13e592d8a6"
      },
      "execution_count": 99,
      "outputs": [
        {
          "output_type": "stream",
          "name": "stderr",
          "text": [
            "/usr/local/lib/python3.7/dist-packages/ipykernel_launcher.py:16: DeprecationWarning: find_element_by_* commands are deprecated. Please use find_element() instead\n",
            "  app.launch_new_instance()\n",
            "/usr/local/lib/python3.7/dist-packages/selenium/webdriver/remote/webelement.py:502: UserWarning: find_elements_by_* commands are deprecated. Please use find_elements() instead\n",
            "  warnings.warn(\"find_elements_by_* commands are deprecated. Please use find_elements() instead\")\n"
          ]
        }
      ]
    },
    {
      "cell_type": "code",
      "source": [
        "df.shape"
      ],
      "metadata": {
        "colab": {
          "base_uri": "https://localhost:8080/"
        },
        "id": "DFj-wpa-iV-M",
        "outputId": "f9ae89df-80c6-47c9-e5f0-1f8c82a39a1f"
      },
      "execution_count": 102,
      "outputs": [
        {
          "output_type": "execute_result",
          "data": {
            "text/plain": [
              "(1080, 7)"
            ]
          },
          "metadata": {},
          "execution_count": 102
        }
      ]
    },
    {
      "cell_type": "code",
      "source": [
        "df.head()"
      ],
      "metadata": {
        "colab": {
          "base_uri": "https://localhost:8080/",
          "height": 337
        },
        "id": "cKl4qkA0iO-5",
        "outputId": "fd72fa52-b204-4ce0-93c9-e3651475beed"
      },
      "execution_count": 101,
      "outputs": [
        {
          "output_type": "execute_result",
          "data": {
            "text/html": [
              "\n",
              "  <div id=\"df-93af5981-2fb2-4c23-a3fa-57b632ab7895\">\n",
              "    <div class=\"colab-df-container\">\n",
              "      <div>\n",
              "<style scoped>\n",
              "    .dataframe tbody tr th:only-of-type {\n",
              "        vertical-align: middle;\n",
              "    }\n",
              "\n",
              "    .dataframe tbody tr th {\n",
              "        vertical-align: top;\n",
              "    }\n",
              "\n",
              "    .dataframe thead th {\n",
              "        text-align: right;\n",
              "    }\n",
              "</style>\n",
              "<table border=\"1\" class=\"dataframe\">\n",
              "  <thead>\n",
              "    <tr style=\"text-align: right;\">\n",
              "      <th></th>\n",
              "      <th>property_title</th>\n",
              "      <th>price</th>\n",
              "      <th>area</th>\n",
              "      <th>room</th>\n",
              "      <th>bath</th>\n",
              "      <th>garage</th>\n",
              "      <th>address</th>\n",
              "    </tr>\n",
              "  </thead>\n",
              "  <tbody>\n",
              "    <tr>\n",
              "      <th>0</th>\n",
              "      <td>Apartamento com 2 Quartos à Venda, 56m²</td>\n",
              "      <td>R$ 269.990</td>\n",
              "      <td>56</td>\n",
              "      <td>2 Quartos</td>\n",
              "      <td>1 Banheiro</td>\n",
              "      <td>1 Vaga</td>\n",
              "      <td>Avenida Raimundo Pereira de Magalhães, 1720 - ...</td>\n",
              "    </tr>\n",
              "    <tr>\n",
              "      <th>1</th>\n",
              "      <td>Just</td>\n",
              "      <td>R$ 650.000</td>\n",
              "      <td>60-71</td>\n",
              "      <td>2 Quartos</td>\n",
              "      <td>2 Banheiros</td>\n",
              "      <td>1-2 Vagas</td>\n",
              "      <td>Avenida Brigadeiro Luís Antônio, 499 - Bela Vi...</td>\n",
              "    </tr>\n",
              "    <tr>\n",
              "      <th>2</th>\n",
              "      <td>Apartamento com 2 Quartos à Venda, 92m²</td>\n",
              "      <td>R$ 1.640.000</td>\n",
              "      <td>92</td>\n",
              "      <td>2 Quartos</td>\n",
              "      <td>3 Banheiros</td>\n",
              "      <td>2 Vagas</td>\n",
              "      <td>Rua Pássaros e Flores - Brooklin, São Paulo - SP</td>\n",
              "    </tr>\n",
              "    <tr>\n",
              "      <th>3</th>\n",
              "      <td>Apartamento com 3 Quartos à Venda, 100m²</td>\n",
              "      <td>R$ 900.000</td>\n",
              "      <td>100</td>\n",
              "      <td>3 Quartos</td>\n",
              "      <td>4 Banheiros</td>\n",
              "      <td>2 Vagas</td>\n",
              "      <td>Rua José de Cristo Moreira, 390 - Morumbi, São...</td>\n",
              "    </tr>\n",
              "    <tr>\n",
              "      <th>4</th>\n",
              "      <td>Apartamento com 3 Quartos à Venda, 127m²</td>\n",
              "      <td>R$ 725.000</td>\n",
              "      <td>127</td>\n",
              "      <td>3 Quartos</td>\n",
              "      <td>4 Banheiros</td>\n",
              "      <td>3 Vagas</td>\n",
              "      <td>Rua Tiquatira, 497 - Bosque da Saúde, São Paul...</td>\n",
              "    </tr>\n",
              "  </tbody>\n",
              "</table>\n",
              "</div>\n",
              "      <button class=\"colab-df-convert\" onclick=\"convertToInteractive('df-93af5981-2fb2-4c23-a3fa-57b632ab7895')\"\n",
              "              title=\"Convert this dataframe to an interactive table.\"\n",
              "              style=\"display:none;\">\n",
              "        \n",
              "  <svg xmlns=\"http://www.w3.org/2000/svg\" height=\"24px\"viewBox=\"0 0 24 24\"\n",
              "       width=\"24px\">\n",
              "    <path d=\"M0 0h24v24H0V0z\" fill=\"none\"/>\n",
              "    <path d=\"M18.56 5.44l.94 2.06.94-2.06 2.06-.94-2.06-.94-.94-2.06-.94 2.06-2.06.94zm-11 1L8.5 8.5l.94-2.06 2.06-.94-2.06-.94L8.5 2.5l-.94 2.06-2.06.94zm10 10l.94 2.06.94-2.06 2.06-.94-2.06-.94-.94-2.06-.94 2.06-2.06.94z\"/><path d=\"M17.41 7.96l-1.37-1.37c-.4-.4-.92-.59-1.43-.59-.52 0-1.04.2-1.43.59L10.3 9.45l-7.72 7.72c-.78.78-.78 2.05 0 2.83L4 21.41c.39.39.9.59 1.41.59.51 0 1.02-.2 1.41-.59l7.78-7.78 2.81-2.81c.8-.78.8-2.07 0-2.86zM5.41 20L4 18.59l7.72-7.72 1.47 1.35L5.41 20z\"/>\n",
              "  </svg>\n",
              "      </button>\n",
              "      \n",
              "  <style>\n",
              "    .colab-df-container {\n",
              "      display:flex;\n",
              "      flex-wrap:wrap;\n",
              "      gap: 12px;\n",
              "    }\n",
              "\n",
              "    .colab-df-convert {\n",
              "      background-color: #E8F0FE;\n",
              "      border: none;\n",
              "      border-radius: 50%;\n",
              "      cursor: pointer;\n",
              "      display: none;\n",
              "      fill: #1967D2;\n",
              "      height: 32px;\n",
              "      padding: 0 0 0 0;\n",
              "      width: 32px;\n",
              "    }\n",
              "\n",
              "    .colab-df-convert:hover {\n",
              "      background-color: #E2EBFA;\n",
              "      box-shadow: 0px 1px 2px rgba(60, 64, 67, 0.3), 0px 1px 3px 1px rgba(60, 64, 67, 0.15);\n",
              "      fill: #174EA6;\n",
              "    }\n",
              "\n",
              "    [theme=dark] .colab-df-convert {\n",
              "      background-color: #3B4455;\n",
              "      fill: #D2E3FC;\n",
              "    }\n",
              "\n",
              "    [theme=dark] .colab-df-convert:hover {\n",
              "      background-color: #434B5C;\n",
              "      box-shadow: 0px 1px 3px 1px rgba(0, 0, 0, 0.15);\n",
              "      filter: drop-shadow(0px 1px 2px rgba(0, 0, 0, 0.3));\n",
              "      fill: #FFFFFF;\n",
              "    }\n",
              "  </style>\n",
              "\n",
              "      <script>\n",
              "        const buttonEl =\n",
              "          document.querySelector('#df-93af5981-2fb2-4c23-a3fa-57b632ab7895 button.colab-df-convert');\n",
              "        buttonEl.style.display =\n",
              "          google.colab.kernel.accessAllowed ? 'block' : 'none';\n",
              "\n",
              "        async function convertToInteractive(key) {\n",
              "          const element = document.querySelector('#df-93af5981-2fb2-4c23-a3fa-57b632ab7895');\n",
              "          const dataTable =\n",
              "            await google.colab.kernel.invokeFunction('convertToInteractive',\n",
              "                                                     [key], {});\n",
              "          if (!dataTable) return;\n",
              "\n",
              "          const docLinkHtml = 'Like what you see? Visit the ' +\n",
              "            '<a target=\"_blank\" href=https://colab.research.google.com/notebooks/data_table.ipynb>data table notebook</a>'\n",
              "            + ' to learn more about interactive tables.';\n",
              "          element.innerHTML = '';\n",
              "          dataTable['output_type'] = 'display_data';\n",
              "          await google.colab.output.renderOutput(dataTable, element);\n",
              "          const docLink = document.createElement('div');\n",
              "          docLink.innerHTML = docLinkHtml;\n",
              "          element.appendChild(docLink);\n",
              "        }\n",
              "      </script>\n",
              "    </div>\n",
              "  </div>\n",
              "  "
            ],
            "text/plain": [
              "                             property_title  ...                                            address\n",
              "0   Apartamento com 2 Quartos à Venda, 56m²  ...  Avenida Raimundo Pereira de Magalhães, 1720 - ...\n",
              "1                                      Just  ...  Avenida Brigadeiro Luís Antônio, 499 - Bela Vi...\n",
              "2   Apartamento com 2 Quartos à Venda, 92m²  ...   Rua Pássaros e Flores - Brooklin, São Paulo - SP\n",
              "3  Apartamento com 3 Quartos à Venda, 100m²  ...  Rua José de Cristo Moreira, 390 - Morumbi, São...\n",
              "4  Apartamento com 3 Quartos à Venda, 127m²  ...  Rua Tiquatira, 497 - Bosque da Saúde, São Paul...\n",
              "\n",
              "[5 rows x 7 columns]"
            ]
          },
          "metadata": {},
          "execution_count": 101
        }
      ]
    }
  ]
}