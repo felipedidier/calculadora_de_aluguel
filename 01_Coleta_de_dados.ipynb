{
 "cells": [
  {
   "cell_type": "markdown",
   "metadata": {
    "id": "Cc2IDcoB7-sG"
   },
   "source": [
    "# Coletando os dados"
   ]
  },
  {
   "cell_type": "markdown",
   "metadata": {
    "id": "JsuhL7fP8C3v"
   },
   "source": [
    "O programa realizará a coleta de dados a partir de WebScraping com Selenium do site Zapimóveis. Será utilizado o driver do Google Chrome para esse processo.\n",
    "Ao final, será gerado um arquivo .csv que armazenará todos os dados consultados."
   ]
  },
  {
   "cell_type": "markdown",
   "metadata": {},
   "source": [
    "## Bibliotecas\n",
    "\n",
    "Algumas bibliotecas são necessárias para a realização do WebScraping..."
   ]
  },
  {
   "cell_type": "code",
   "execution_count": 1,
   "metadata": {},
   "outputs": [
    {
     "name": "stdout",
     "output_type": "stream",
     "text": [
      "Requirement already satisfied: selenium in c:\\programdata\\anaconda3\\lib\\site-packages (4.1.0)\n",
      "Requirement already satisfied: trio~=0.17 in c:\\programdata\\anaconda3\\lib\\site-packages (from selenium) (0.19.0)\n",
      "Requirement already satisfied: trio-websocket~=0.9 in c:\\programdata\\anaconda3\\lib\\site-packages (from selenium) (0.9.2)\n",
      "Requirement already satisfied: urllib3[secure]~=1.26 in c:\\programdata\\anaconda3\\lib\\site-packages (from selenium) (1.26.7)\n",
      "Requirement already satisfied: async-generator>=1.9 in c:\\programdata\\anaconda3\\lib\\site-packages (from trio~=0.17->selenium) (1.10)\n",
      "Requirement already satisfied: cffi>=1.14 in c:\\programdata\\anaconda3\\lib\\site-packages (from trio~=0.17->selenium) (1.14.6)\n",
      "Requirement already satisfied: attrs>=19.2.0 in c:\\programdata\\anaconda3\\lib\\site-packages (from trio~=0.17->selenium) (21.2.0)\n",
      "Requirement already satisfied: sortedcontainers in c:\\programdata\\anaconda3\\lib\\site-packages (from trio~=0.17->selenium) (2.4.0)\n",
      "Requirement already satisfied: sniffio in c:\\programdata\\anaconda3\\lib\\site-packages (from trio~=0.17->selenium) (1.2.0)\n",
      "Requirement already satisfied: outcome in c:\\programdata\\anaconda3\\lib\\site-packages (from trio~=0.17->selenium) (1.1.0)\n",
      "Requirement already satisfied: idna in c:\\programdata\\anaconda3\\lib\\site-packages (from trio~=0.17->selenium) (3.2)\n",
      "Requirement already satisfied: pycparser in c:\\programdata\\anaconda3\\lib\\site-packages (from cffi>=1.14->trio~=0.17->selenium) (2.20)\n",
      "Requirement already satisfied: wsproto>=0.14 in c:\\programdata\\anaconda3\\lib\\site-packages (from trio-websocket~=0.9->selenium) (1.0.0)\n",
      "Requirement already satisfied: pyOpenSSL>=0.14 in c:\\programdata\\anaconda3\\lib\\site-packages (from urllib3[secure]~=1.26->selenium) (21.0.0)\n",
      "Requirement already satisfied: cryptography>=1.3.4 in c:\\programdata\\anaconda3\\lib\\site-packages (from urllib3[secure]~=1.26->selenium) (3.4.8)\n",
      "Requirement already satisfied: certifi in c:\\programdata\\anaconda3\\lib\\site-packages (from urllib3[secure]~=1.26->selenium) (2021.10.8)\n",
      "Requirement already satisfied: six>=1.5.2 in c:\\programdata\\anaconda3\\lib\\site-packages (from pyOpenSSL>=0.14->urllib3[secure]~=1.26->selenium) (1.16.0)\n",
      "Requirement already satisfied: h11<1,>=0.9.0 in c:\\programdata\\anaconda3\\lib\\site-packages (from wsproto>=0.14->trio-websocket~=0.9->selenium) (0.13.0)\n"
     ]
    }
   ],
   "source": [
    "!pip install selenium"
   ]
  },
  {
   "cell_type": "code",
   "execution_count": 2,
   "metadata": {
    "id": "XwfpxOa27naK"
   },
   "outputs": [],
   "source": [
    "import time\n",
    "from selenium import webdriver\n",
    "from selenium.webdriver.chrome.options import Options\n",
    "from selenium.webdriver.common.by import By\n",
    "from selenium.webdriver.support.ui import WebDriverWait\n",
    "from selenium.webdriver.support import expected_conditions as EC\n",
    "from selenium.common.exceptions import TimeoutException, WebDriverException\n",
    "\n",
    "import pandas as pd"
   ]
  },
  {
   "cell_type": "markdown",
   "metadata": {},
   "source": [
    "## WebScraping"
   ]
  },
  {
   "cell_type": "code",
   "execution_count": 3,
   "metadata": {},
   "outputs": [],
   "source": [
    "def webscraping_zapimoveis(num_interation):  \n",
    "    \n",
    "    options = Options()\n",
    "    options.add_argument(\"--incognito\")\n",
    "    options.add_argument(\"start-maximized\")\n",
    "    \n",
    "    driver = webdriver.Chrome(options=options)\n",
    "    url = f'https://www.zapimoveis.com.br/venda/apartamentos/rn+natal/?transacao=Venda&tipoUnidade=Residencial,Apartamento&tipo=Im%C3%B3vel%20usado&pagina=1&onde=,Rio%20Grande%20do%20Norte,Natal,,,,,city,BR%3ERio%20Grande%20do%20Norte%3ENULL%3ENatal,-5.78417,-35.199971,'\n",
    "    driver.get(url)\n",
    "    time.sleep(3)\n",
    "    \n",
    "    list_property_title = []\n",
    "    list_property_title = []\n",
    "    list_price = []\n",
    "    list_property_area = []\n",
    "    list_property_room = []\n",
    "    list_property_bath = []\n",
    "    list_property_garage = []\n",
    "    list_property_address = []\n",
    "        \n",
    "    for num in range(1, num_interation):\n",
    "        \n",
    "        list_pag = driver.find_element(By.XPATH, '//*[@id=\"app\"]/section[1]/div[2]/div[3]/section')\n",
    "        #Título da propriedade\n",
    "        property_title = list_pag.find_elements(By.CSS_SELECTOR ,'.simple-card__text')\n",
    "        list_property_title = list_property_title + [el.text for el in property_title]\n",
    "        #Preço da propriedade\n",
    "        price = list_pag.find_elements(By.CSS_SELECTOR ,'.simple-card__price')\n",
    "        list_price = list_price + [el.text for el in price]\n",
    "\n",
    "        #Área da propriedade\n",
    "        property_area = list_pag.find_elements(By.CSS_SELECTOR ,'.js-areas')\n",
    "        list_property_area = list_property_area + [el.text for el in property_area]\n",
    "\n",
    "        #Quarto da propriedade\n",
    "        property_room = list_pag.find_elements(By.CSS_SELECTOR ,'.js-bedrooms')\n",
    "        list_property_room = list_property_room + [el.text for el in property_room]\n",
    "\n",
    "        #Banheiro da propriedade\n",
    "        property_bath = list_pag.find_elements(By.CSS_SELECTOR ,'.js-bathrooms')\n",
    "        list_property_bath = list_property_bath + [el.text for el in property_bath]\n",
    "\n",
    "        #Garagem da propriedade\n",
    "        property_garage = list_pag.find_elements(By.CSS_SELECTOR ,'.js-parking-spaces')\n",
    "        list_property_garage = list_property_garage + [el.text for el in property_garage]\n",
    "\n",
    "        #Endereço da propriedade\n",
    "        property_address = list_pag.find_elements(By.CSS_SELECTOR ,'.simple-card__address')\n",
    "        list_property_address = list_property_address + [el.text for el in property_address]   \n",
    "\n",
    "        url = f'https://www.zapimoveis.com.br/venda/apartamentos/rn+natal/?pagina={num + 2}&transacao=Venda&tipoUnidade=Residencial,Apartamento&tipo=Im%C3%B3vel%20usado&onde=,Rio%20Grande%20do%20Norte,Natal,,,,,city,BR%3ERio%20Grande%20do%20Norte%3ENULL%3ENatal,-5.78417,-35.199971,'\n",
    "        driver.get(url)\n",
    "        time.sleep(3)\n",
    "        \n",
    "        print(f\"{len(list_property_title)} data colected. Next page...\")\n",
    "        \n",
    "        \n",
    "    print(f\"Process finished. {len(list_property_title)} successful colected.\")\n",
    "    \n",
    "    columns_name = ['property_describe', 'price', 'area', 'room', 'bath', 'garage', 'address']\n",
    "    df = pd.DataFrame(zip(list_property_title, list_price, list_property_area, list_property_room, list_property_bath, list_property_garage, list_property_address), columns=columns_name)\n",
    "\n",
    "    return df"
   ]
  },
  {
   "cell_type": "markdown",
   "metadata": {},
   "source": [
    "Chamando a função webscraping_zapimoveis() definida acima."
   ]
  },
  {
   "cell_type": "code",
   "execution_count": 4,
   "metadata": {
    "scrolled": false
   },
   "outputs": [
    {
     "name": "stdout",
     "output_type": "stream",
     "text": [
      "24 data colected. Next page...\n",
      "48 data colected. Next page...\n",
      "72 data colected. Next page...\n",
      "96 data colected. Next page...\n",
      "120 data colected. Next page...\n",
      "144 data colected. Next page...\n",
      "168 data colected. Next page...\n",
      "192 data colected. Next page...\n",
      "216 data colected. Next page...\n",
      "240 data colected. Next page...\n",
      "264 data colected. Next page...\n",
      "288 data colected. Next page...\n",
      "312 data colected. Next page...\n",
      "336 data colected. Next page...\n",
      "360 data colected. Next page...\n",
      "384 data colected. Next page...\n",
      "408 data colected. Next page...\n",
      "431 data colected. Next page...\n",
      "455 data colected. Next page...\n",
      "478 data colected. Next page...\n",
      "502 data colected. Next page...\n",
      "526 data colected. Next page...\n",
      "550 data colected. Next page...\n",
      "573 data colected. Next page...\n",
      "597 data colected. Next page...\n",
      "621 data colected. Next page...\n",
      "645 data colected. Next page...\n",
      "669 data colected. Next page...\n",
      "693 data colected. Next page...\n",
      "717 data colected. Next page...\n",
      "741 data colected. Next page...\n",
      "764 data colected. Next page...\n",
      "788 data colected. Next page...\n",
      "812 data colected. Next page...\n",
      "836 data colected. Next page...\n",
      "859 data colected. Next page...\n",
      "883 data colected. Next page...\n",
      "907 data colected. Next page...\n",
      "931 data colected. Next page...\n",
      "955 data colected. Next page...\n",
      "978 data colected. Next page...\n",
      "1002 data colected. Next page...\n",
      "1026 data colected. Next page...\n",
      "1050 data colected. Next page...\n",
      "1074 data colected. Next page...\n",
      "1098 data colected. Next page...\n",
      "1122 data colected. Next page...\n",
      "1146 data colected. Next page...\n",
      "1170 data colected. Next page...\n",
      "1194 data colected. Next page...\n",
      "1218 data colected. Next page...\n",
      "1242 data colected. Next page...\n",
      "1266 data colected. Next page...\n",
      "1290 data colected. Next page...\n",
      "1314 data colected. Next page...\n",
      "1337 data colected. Next page...\n",
      "1361 data colected. Next page...\n",
      "1385 data colected. Next page...\n",
      "1409 data colected. Next page...\n",
      "1433 data colected. Next page...\n",
      "1457 data colected. Next page...\n",
      "1481 data colected. Next page...\n",
      "1505 data colected. Next page...\n",
      "1529 data colected. Next page...\n",
      "1553 data colected. Next page...\n",
      "1577 data colected. Next page...\n",
      "1601 data colected. Next page...\n",
      "1625 data colected. Next page...\n",
      "1649 data colected. Next page...\n",
      "1672 data colected. Next page...\n",
      "1695 data colected. Next page...\n",
      "1719 data colected. Next page...\n",
      "1743 data colected. Next page...\n",
      "1767 data colected. Next page...\n",
      "1791 data colected. Next page...\n",
      "1815 data colected. Next page...\n",
      "1839 data colected. Next page...\n",
      "1863 data colected. Next page...\n",
      "1887 data colected. Next page...\n",
      "1911 data colected. Next page...\n",
      "1935 data colected. Next page...\n",
      "1959 data colected. Next page...\n",
      "1983 data colected. Next page...\n",
      "2007 data colected. Next page...\n",
      "2031 data colected. Next page...\n",
      "2055 data colected. Next page...\n",
      "2079 data colected. Next page...\n",
      "2103 data colected. Next page...\n",
      "2127 data colected. Next page...\n",
      "2151 data colected. Next page...\n",
      "2175 data colected. Next page...\n",
      "2198 data colected. Next page...\n",
      "2221 data colected. Next page...\n",
      "2245 data colected. Next page...\n",
      "2269 data colected. Next page...\n",
      "2293 data colected. Next page...\n",
      "2317 data colected. Next page...\n",
      "2341 data colected. Next page...\n",
      "2365 data colected. Next page...\n",
      "Process finished. 2365 successful colected.\n"
     ]
    }
   ],
   "source": [
    "df = webscraping_zapimoveis(100)"
   ]
  },
  {
   "cell_type": "code",
   "execution_count": 5,
   "metadata": {},
   "outputs": [
    {
     "data": {
      "text/html": [
       "<div>\n",
       "<style scoped>\n",
       "    .dataframe tbody tr th:only-of-type {\n",
       "        vertical-align: middle;\n",
       "    }\n",
       "\n",
       "    .dataframe tbody tr th {\n",
       "        vertical-align: top;\n",
       "    }\n",
       "\n",
       "    .dataframe thead th {\n",
       "        text-align: right;\n",
       "    }\n",
       "</style>\n",
       "<table border=\"1\" class=\"dataframe\">\n",
       "  <thead>\n",
       "    <tr style=\"text-align: right;\">\n",
       "      <th></th>\n",
       "      <th>property_describe</th>\n",
       "      <th>price</th>\n",
       "      <th>area</th>\n",
       "      <th>room</th>\n",
       "      <th>bath</th>\n",
       "      <th>garage</th>\n",
       "      <th>address</th>\n",
       "    </tr>\n",
       "  </thead>\n",
       "  <tbody>\n",
       "    <tr>\n",
       "      <th>0</th>\n",
       "      <td>O melhor prédio da Cidade Alta, entre Tirol e ...</td>\n",
       "      <td>R$ 340.000</td>\n",
       "      <td>71 m²</td>\n",
       "      <td>3</td>\n",
       "      <td>3</td>\n",
       "      <td>2</td>\n",
       "      <td>Rua Princesa Isabel, Cidade Alta</td>\n",
       "    </tr>\n",
       "    <tr>\n",
       "      <th>1</th>\n",
       "      <td>Piso Laminado no Quarto, Piso Laminado na Sala...</td>\n",
       "      <td>R$ 149.990</td>\n",
       "      <td>41 - 44 m²</td>\n",
       "      <td>2</td>\n",
       "      <td>1</td>\n",
       "      <td>1</td>\n",
       "      <td>Avenida Moema Tinoco da Cunha Lima, Pajuçara</td>\n",
       "    </tr>\n",
       "    <tr>\n",
       "      <th>2</th>\n",
       "      <td>Condomínio fechado com apartamentos de 2 quart...</td>\n",
       "      <td>R$ 152.990</td>\n",
       "      <td>41 m²</td>\n",
       "      <td>2</td>\n",
       "      <td>1</td>\n",
       "      <td>1</td>\n",
       "      <td>Avenida Moema Tinoco da Cunha Lima, Zona Norte</td>\n",
       "    </tr>\n",
       "    <tr>\n",
       "      <th>3</th>\n",
       "      <td>Apartamento Edifício Carlos Silva - 120 m² O A...</td>\n",
       "      <td>R$ 430.000</td>\n",
       "      <td>120 m²</td>\n",
       "      <td>3</td>\n",
       "      <td>5</td>\n",
       "      <td>3</td>\n",
       "      <td>Rua Jaguarari, Barro Vermelho</td>\n",
       "    </tr>\n",
       "    <tr>\n",
       "      <th>4</th>\n",
       "      <td>Excelente apartamento com 2 quartos, sendo 1 s...</td>\n",
       "      <td>R$ 235.000</td>\n",
       "      <td>55 m²</td>\n",
       "      <td>2</td>\n",
       "      <td>1</td>\n",
       "      <td>1</td>\n",
       "      <td>Pitimbu, Natal</td>\n",
       "    </tr>\n",
       "  </tbody>\n",
       "</table>\n",
       "</div>"
      ],
      "text/plain": [
       "                                   property_describe       price        area  \\\n",
       "0  O melhor prédio da Cidade Alta, entre Tirol e ...  R$ 340.000       71 m²   \n",
       "1  Piso Laminado no Quarto, Piso Laminado na Sala...  R$ 149.990  41 - 44 m²   \n",
       "2  Condomínio fechado com apartamentos de 2 quart...  R$ 152.990       41 m²   \n",
       "3  Apartamento Edifício Carlos Silva - 120 m² O A...  R$ 430.000      120 m²   \n",
       "4  Excelente apartamento com 2 quartos, sendo 1 s...  R$ 235.000       55 m²   \n",
       "\n",
       "  room bath garage                                         address  \n",
       "0    3    3      2                Rua Princesa Isabel, Cidade Alta  \n",
       "1    2    1      1    Avenida Moema Tinoco da Cunha Lima, Pajuçara  \n",
       "2    2    1      1  Avenida Moema Tinoco da Cunha Lima, Zona Norte  \n",
       "3    3    5      3                   Rua Jaguarari, Barro Vermelho  \n",
       "4    2    1      1                                  Pitimbu, Natal  "
      ]
     },
     "execution_count": 5,
     "metadata": {},
     "output_type": "execute_result"
    }
   ],
   "source": [
    "df.head()"
   ]
  },
  {
   "cell_type": "code",
   "execution_count": 6,
   "metadata": {},
   "outputs": [
    {
     "data": {
      "text/plain": [
       "(2326, 7)"
      ]
     },
     "execution_count": 6,
     "metadata": {},
     "output_type": "execute_result"
    }
   ],
   "source": [
    "df.shape"
   ]
  },
  {
   "cell_type": "code",
   "execution_count": 7,
   "metadata": {},
   "outputs": [
    {
     "data": {
      "text/plain": [
       "5"
      ]
     },
     "execution_count": 7,
     "metadata": {},
     "output_type": "execute_result"
    }
   ],
   "source": [
    "df.duplicated().sum()"
   ]
  },
  {
   "cell_type": "markdown",
   "metadata": {},
   "source": [
    "## Gerando arquivo .CSV"
   ]
  },
  {
   "cell_type": "code",
   "execution_count": 8,
   "metadata": {
    "colab": {
     "base_uri": "https://localhost:8080/",
     "height": 337
    },
    "id": "CYdBshzr4EJ6",
    "outputId": "7ef79c6b-7509-49c4-dd6b-566af200a597"
   },
   "outputs": [],
   "source": [
    "df.to_csv('df_zapimoveis.csv', index=False, sep='|', encoding=\"utf-8-sig\")"
   ]
  }
 ],
 "metadata": {
  "colab": {
   "name": "VivaReal_Coleta_de_dados.ipynb",
   "provenance": []
  },
  "kernelspec": {
   "display_name": "Python 3 (ipykernel)",
   "language": "python",
   "name": "python3"
  },
  "language_info": {
   "codemirror_mode": {
    "name": "ipython",
    "version": 3
   },
   "file_extension": ".py",
   "mimetype": "text/x-python",
   "name": "python",
   "nbconvert_exporter": "python",
   "pygments_lexer": "ipython3",
   "version": "3.9.7"
  }
 },
 "nbformat": 4,
 "nbformat_minor": 1
}
